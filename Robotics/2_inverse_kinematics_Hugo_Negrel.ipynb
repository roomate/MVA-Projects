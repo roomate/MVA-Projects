{
 "cells": [
  {
   "attachments": {},
   "cell_type": "markdown",
   "metadata": {},
   "source": [
    "# Inverse kinematics\n",
    "This notebook considers the problem of inverse kinematics, ie solving at each control cycle of the robot a quadratic program from the derivatives (jacobian) of the current state. It introduces the basic function to compute the Jacobians of the robot, and how to use them to compute an inverse-kinematics control law. One of the key difficulties is to understand in which frames each quantities is computed (might be in the world frame, in the local frame attached to the end effector, in some arbitrary goal frame, etc), as we should never mixed quantities expressed in different frames without transporting them in the right frame. \n"
   ]
  },
  {
   "attachments": {},
   "cell_type": "markdown",
   "metadata": {},
   "source": [
    "## Set up\n",
    "We will MeshCat for visualization and NumPy for linear algebra. Note that the [@ operator](https://numpy.org/doc/stable/reference/routines.linalg.html#the-operator) is a way to compute the matrix (dot) product between two NumPy arrays, similar to ``np.dot(A, B)``."
   ]
  },
  {
   "cell_type": "code",
   "execution_count": 1,
   "metadata": {},
   "outputs": [],
   "source": [
    "import pinocchio as pin\n",
    "import numpy as np\n",
    "import time\n",
    "from numpy.linalg import pinv,inv,norm,svd,eig\n",
    "from utils.tiago_loader import loadTiago\n",
    "import matplotlib.pylab as plt; plt.ion()\n",
    "from utils.meshcat_viewer_wrapper import MeshcatVisualizer"
   ]
  },
  {
   "attachments": {},
   "cell_type": "markdown",
   "metadata": {},
   "source": [
    "We will use the Tiago robot (https://youtu.be/6BwRqwD066g). This mobile manipulator from PAL Robotics as a mobile basis which can move in the plane (3 dof), a manipulator arm (7 dof) and a head (2 dof) both mounted on a prismatic axis moving vertically (1 dof). This makes 3 dof for the basis, and 9 dof for the body. It also has 2 extra joints tot figure the wheels, which are not very useful for this notebook. The wheels and the basis rotations are represented by the cos and sin of the angle. The size of the configuration vector is then 18, while the velocity vector has dimension 15.\n",
    "\n",
    "A load function is available to make it easy to load the robot."
   ]
  },
  {
   "cell_type": "code",
   "execution_count": 2,
   "metadata": {},
   "outputs": [
    {
     "name": "stdout",
     "output_type": "stream",
     "text": [
      "You can open the visualizer by visiting the following URL:\n",
      "http://127.0.0.1:7000/static/\n"
     ]
    }
   ],
   "source": [
    "robot = loadTiago()\n",
    "viz = MeshcatVisualizer(robot)"
   ]
  },
  {
   "cell_type": "code",
   "execution_count": 3,
   "metadata": {},
   "outputs": [
    {
     "data": {
      "text/html": [
       "\n",
       "            <div style=\"height: 400px; width: 100%; overflow-x: auto; overflow-y: hidden; resize: both\">\n",
       "            <iframe src=\"http://127.0.0.1:7000/static/\" style=\"width: 100%; height: 100%; border: none\"></iframe>\n",
       "            </div>\n",
       "            "
      ],
      "text/plain": [
       "<IPython.core.display.HTML object>"
      ]
     },
     "execution_count": 3,
     "metadata": {},
     "output_type": "execute_result"
    }
   ],
   "source": [
    "viz.viewer.jupyter_cell()"
   ]
  },
  {
   "attachments": {},
   "cell_type": "markdown",
   "metadata": {},
   "source": [
    "The configuration is represented by a vector of larger dimension, subject to constraints ($cos^2+sin^2=1$). It is not possible to randomly sample a configuration vector q, as these constraints should be respected. Similarly, we should take care when integrating a velocity as summing a configuration q with a velocity v will not work (dimensions do not match). Two functions in Pinocchio implements these functionnalities."
   ]
  },
  {
   "cell_type": "code",
   "execution_count": 4,
   "metadata": {},
   "outputs": [],
   "source": [
    "q = pin.randomConfiguration(robot.model)\n",
    "vq = np.random.rand(robot.model.nv)*2 - 1\n",
    "DT = 1e-3\n",
    "qnext = pin.integrate(robot.model,q,vq*DT)"
   ]
  },
  {
   "attachments": {},
   "cell_type": "markdown",
   "metadata": {},
   "source": [
    "The fifteen angular speeds of the actuators : "
   ]
  },
  {
   "attachments": {},
   "cell_type": "markdown",
   "metadata": {},
   "source": [
    "A simple example moving the robot in the viewer following a constant (random) velocity is as follows."
   ]
  },
  {
   "cell_type": "code",
   "execution_count": 7,
   "metadata": {},
   "outputs": [],
   "source": [
    "for t in range(1000):\n",
    "    q = pin.integrate(robot.model,q,vq*DT)\n",
    "    viz.display(q)\n",
    "    time.sleep(DT/10)"
   ]
  },
  {
   "attachments": {},
   "cell_type": "markdown",
   "metadata": {},
   "source": [
    "The robot is mobile, hence the camera view in the viewer is not always centered. "
   ]
  },
  {
   "attachments": {},
   "cell_type": "markdown",
   "metadata": {},
   "source": [
    "## Forward kinematics and Jacobian\n",
    "We recall first the basic method to compute the robot forward kinematics.\n",
    "We will consider two frames of interest on the robot: the first one, named <tool> is at the tip of the end-effector ; the second one, named <basis>, is on the front of the robot basis, 10 cm above the ground. Both are represented in MeshCat by a frame composed of three RGB arrows. "
   ]
  },
  {
   "cell_type": "code",
   "execution_count": 8,
   "metadata": {},
   "outputs": [],
   "source": [
    "IDX_TOOL = robot.model.getFrameId('frametool')\n",
    "IDX_BASIS = robot.model.getFrameId('framebasis')"
   ]
  },
  {
   "attachments": {},
   "cell_type": "markdown",
   "metadata": {},
   "source": [
    "Print here the position of the initial position of the robot. We observe EF and robot basis have the same irientation at first."
   ]
  },
  {
   "cell_type": "code",
   "execution_count": 9,
   "metadata": {},
   "outputs": [
    {
     "name": "stdout",
     "output_type": "stream",
     "text": [
      "Frame name: frametool paired to (parent joint/ previous frame)(9/52)\n",
      "with relative placement wrt parent joint:\n",
      "  R =\n",
      "1 0 0\n",
      "0 1 0\n",
      "0 0 1\n",
      "  p =    0    0 0.08\n",
      "containing inertia:\n",
      "  m = 0\n",
      "  c = 0 0 0\n",
      "  I = \n",
      "0 0 0\n",
      "0 0 0\n",
      "0 0 0\n",
      "\n"
     ]
    },
    {
     "data": {
      "text/plain": [
       "Frame name: framebasis paired to (parent joint/ previous frame)(1/4)\n",
       "with relative placement wrt parent joint:\n",
       "  R =\n",
       "1 0 0\n",
       "0 1 0\n",
       "0 0 1\n",
       "  p =  0.3    0 0.15\n",
       "containing inertia:\n",
       "  m = 0\n",
       "  c = 0 0 0\n",
       "  I = \n",
       "0 0 0\n",
       "0 0 0\n",
       "0 0 0"
      ]
     },
     "execution_count": 9,
     "metadata": {},
     "output_type": "execute_result"
    }
   ],
   "source": [
    "print(robot.model.frames[IDX_TOOL])\n",
    "robot.model.frames[IDX_BASIS]"
   ]
  },
  {
   "attachments": {},
   "cell_type": "markdown",
   "metadata": {},
   "source": [
    "`model.frame` contains a relative placement ($SE(3)$) to a parent frame which will be a joint frame (aka a principal frame). It also contains dynamic constant if it is a representing a link (aka associated to a mesh)."
   ]
  },
  {
   "attachments": {},
   "cell_type": "markdown",
   "metadata": {},
   "source": [
    "### Computing frame placement\n",
    "The global placement of the frames are computed by the Pinocchio function framesForwardKinematics, whose results are stored in robot.data.oMf.     \n"
   ]
  },
  {
   "cell_type": "code",
   "execution_count": 10,
   "metadata": {},
   "outputs": [
    {
     "name": "stdout",
     "output_type": "stream",
     "text": [
      "Tool placement:   R =\n",
      "  0.057929   -0.76798   0.637849\n",
      " -0.987582  -0.137546 -0.0759159\n",
      "  0.146035   -0.62553  -0.766411\n",
      "  p = -0.257769 0.0973748   1.31436\n",
      "\n",
      "Basis placement:   R =\n",
      " 0.383389 -0.923587         0\n",
      " 0.923587  0.383389         0\n",
      "        0         0         1\n",
      "  p = -0.846109  0.208297      0.15\n",
      "\n"
     ]
    }
   ],
   "source": [
    "pin.framesForwardKinematics(robot.model,robot.data,q)\n",
    "\n",
    "oMtool = robot.data.oMf[IDX_TOOL]\n",
    "oMbasis = robot.data.oMf[IDX_BASIS]\n",
    "\n",
    "print(\"Tool placement:\",oMtool)\n",
    "print(\"Basis placement:\",oMbasis)"
   ]
  },
  {
   "attachments": {},
   "cell_type": "markdown",
   "metadata": {},
   "source": [
    "It is very important to notice the instruction pattern (which is standard in all Pinocchion functions): first call a whole-body algorithm (here *pin.framesForwardKinematics*), then access the results into *robot.data*.\n",
    "`robot.model` refers to the structure and `robot.data` as container for data that are populated using a whole body algorithm for a given configuration on other elements."
   ]
  },
  {
   "attachments": {},
   "cell_type": "markdown",
   "metadata": {},
   "source": [
    "The tool-placement matrix $^0M_{tool}$ represents the displacement from the world frame $F_0$ to the tool frame $F_{tool}$ expressed in $F_0$. It is this matrix that must be applied to vector expressed in $F_{tool}$ to transform it as vector express in $F_0$. It is composed on a rotation matrix $^0R_{tool}$ and a 3D vector $^0T_{tool}$: $^0M_{tool}= [^0R_{tool}, ^0T_{tool}]$, when $^0T_{tool}$ is the vector $o_{tool} - o_{0}$ from the origin of frame $F_0$ to the origin of from $F_{tool}$ expressed in the world frame $F_o$. We can rather express $o_{tool} - o_{0}$ in the tool frame $F_{tool}$ by multiplying $^0T_{tool}$ by $^0R_{tool}^T$:"
   ]
  },
  {
   "attachments": {},
   "cell_type": "markdown",
   "metadata": {},
   "source": [
    "Take care to the multiplication operator in numpy. The operator* is (unintuitively) mapped to the coefficient-wise multiplication ... i.e. not at all the matrix multiplication. You should use the operator @ to get the real matrix-matrix product. \n",
    "Never mind, you will likely be tricked at least once by this design pattern. If you don't like it ... well there is nothing to do, this is the basic matrix library in Python, the world most used language. "
   ]
  },
  {
   "attachments": {},
   "cell_type": "markdown",
   "metadata": {},
   "source": [
    "### Computing Jacobians\n",
    "The jacobian of a frame of the robot is computed using `pin.computeFrameJacobian`"
   ]
  },
  {
   "cell_type": "code",
   "execution_count": 11,
   "metadata": {},
   "outputs": [
    {
     "data": {
      "text/plain": [
       "(6, 15)"
      ]
     },
     "execution_count": 11,
     "metadata": {},
     "output_type": "execute_result"
    }
   ],
   "source": [
    "Jtool = pin.computeFrameJacobian(robot.model,robot.data,q,IDX_TOOL)\n",
    "Jtool.shape"
   ]
  },
  {
   "attachments": {},
   "cell_type": "markdown",
   "metadata": {},
   "source": [
    "This matrix has 6 rows and NV=15 columns. It corresponds to the \"spatial\" 6D velocity of the end effector. Let's first focus on the 3 first rows, corresponding to the linear velocity. Instant velocity of the original frame:"
   ]
  },
  {
   "cell_type": "code",
   "execution_count": 12,
   "metadata": {},
   "outputs": [
    {
     "data": {
      "text/plain": [
       "array([[ 4.06080638e-01, -2.55317820e-01,  1.29897354e-01,\n",
       "        -1.38919509e-01,  1.59339806e-01,  9.19225625e-02,\n",
       "         4.88844666e-02,  1.04434604e-03,  1.20781631e-02,\n",
       "         2.05904700e-02,  0.00000000e+00,  0.00000000e+00,\n",
       "         0.00000000e+00,  0.00000000e+00,  0.00000000e+00],\n",
       "       [-2.55317820e-01,  6.45627544e-01,  1.23582768e-01,\n",
       "         2.35984182e-01,  5.99326751e-02, -1.34642194e-01,\n",
       "         7.43895497e-04, -3.53857864e-02,  1.14238677e-03,\n",
       "        -3.06763163e-02,  0.00000000e+00,  0.00000000e+00,\n",
       "         0.00000000e+00,  0.00000000e+00,  0.00000000e+00],\n",
       "       [ 1.29897354e-01,  1.23582768e-01,  1.28398121e-01,\n",
       "         1.84546088e-02,  1.18717307e-01, -3.11106465e-03,\n",
       "         2.89566485e-02, -1.43604362e-02,  7.56007882e-03,\n",
       "        -9.15511359e-04,  0.00000000e+00,  0.00000000e+00,\n",
       "         0.00000000e+00,  0.00000000e+00,  0.00000000e+00],\n",
       "       [-1.38919509e-01,  2.35984182e-01,  1.84546088e-02,\n",
       "         5.63610556e-01, -5.44859246e-03,  2.07698259e-01,\n",
       "         1.11175642e-02,  1.49089647e-01, -4.84622953e-03,\n",
       "         1.09529318e-02,  0.00000000e+00,  0.00000000e+00,\n",
       "         0.00000000e+00,  0.00000000e+00,  0.00000000e+00],\n",
       "       [ 1.59339806e-01,  5.99326751e-02,  1.18717307e-01,\n",
       "        -5.44859246e-03,  1.15371329e-01,  1.07043074e-02,\n",
       "         2.95718115e-02, -1.10531679e-02,  7.62287401e-03,\n",
       "         2.22718646e-03,  0.00000000e+00,  0.00000000e+00,\n",
       "         0.00000000e+00,  0.00000000e+00,  0.00000000e+00],\n",
       "       [ 9.19225625e-02, -1.34642194e-01, -3.11106465e-03,\n",
       "         2.07698259e-01,  1.07043074e-02,  1.79636165e-01,\n",
       "         1.62368844e-02,  9.51114407e-02, -5.43141275e-04,\n",
       "         2.05499380e-02,  0.00000000e+00,  0.00000000e+00,\n",
       "         0.00000000e+00,  0.00000000e+00,  0.00000000e+00],\n",
       "       [ 4.88844666e-02,  7.43895497e-04,  2.89566485e-02,\n",
       "         1.11175642e-02,  2.95718115e-02,  1.62368844e-02,\n",
       "         8.63112952e-03,  4.06246110e-03,  1.88977408e-03,\n",
       "         2.23413394e-03,  0.00000000e+00,  0.00000000e+00,\n",
       "         0.00000000e+00,  0.00000000e+00,  0.00000000e+00],\n",
       "       [ 1.04434604e-03, -3.53857864e-02, -1.43604362e-02,\n",
       "         1.49089647e-01, -1.10531679e-02,  9.51114407e-02,\n",
       "         4.06246110e-03,  5.69545413e-02, -1.74816328e-03,\n",
       "         9.29358685e-03,  0.00000000e+00,  0.00000000e+00,\n",
       "         0.00000000e+00,  0.00000000e+00,  0.00000000e+00],\n",
       "       [ 1.20781631e-02,  1.14238677e-03,  7.56007882e-03,\n",
       "        -4.84622953e-03,  7.62287401e-03, -5.43141275e-04,\n",
       "         1.88977408e-03, -1.74816328e-03,  5.41022059e-04,\n",
       "         1.24254496e-04,  0.00000000e+00,  0.00000000e+00,\n",
       "         0.00000000e+00,  0.00000000e+00,  0.00000000e+00],\n",
       "       [ 2.05904700e-02, -3.06763163e-02, -9.15511359e-04,\n",
       "         1.09529318e-02,  2.22718646e-03,  2.05499380e-02,\n",
       "         2.23413394e-03,  9.29358685e-03,  1.24254496e-04,\n",
       "         2.85872385e-03,  0.00000000e+00,  0.00000000e+00,\n",
       "         0.00000000e+00,  0.00000000e+00,  0.00000000e+00],\n",
       "       [ 0.00000000e+00,  0.00000000e+00,  0.00000000e+00,\n",
       "         0.00000000e+00,  0.00000000e+00,  0.00000000e+00,\n",
       "         0.00000000e+00,  0.00000000e+00,  0.00000000e+00,\n",
       "         0.00000000e+00,  0.00000000e+00,  0.00000000e+00,\n",
       "         0.00000000e+00,  0.00000000e+00,  0.00000000e+00],\n",
       "       [ 0.00000000e+00,  0.00000000e+00,  0.00000000e+00,\n",
       "         0.00000000e+00,  0.00000000e+00,  0.00000000e+00,\n",
       "         0.00000000e+00,  0.00000000e+00,  0.00000000e+00,\n",
       "         0.00000000e+00,  0.00000000e+00,  0.00000000e+00,\n",
       "         0.00000000e+00,  0.00000000e+00,  0.00000000e+00],\n",
       "       [ 0.00000000e+00,  0.00000000e+00,  0.00000000e+00,\n",
       "         0.00000000e+00,  0.00000000e+00,  0.00000000e+00,\n",
       "         0.00000000e+00,  0.00000000e+00,  0.00000000e+00,\n",
       "         0.00000000e+00,  0.00000000e+00,  0.00000000e+00,\n",
       "         0.00000000e+00,  0.00000000e+00,  0.00000000e+00],\n",
       "       [ 0.00000000e+00,  0.00000000e+00,  0.00000000e+00,\n",
       "         0.00000000e+00,  0.00000000e+00,  0.00000000e+00,\n",
       "         0.00000000e+00,  0.00000000e+00,  0.00000000e+00,\n",
       "         0.00000000e+00,  0.00000000e+00,  0.00000000e+00,\n",
       "         0.00000000e+00,  0.00000000e+00,  0.00000000e+00],\n",
       "       [ 0.00000000e+00,  0.00000000e+00,  0.00000000e+00,\n",
       "         0.00000000e+00,  0.00000000e+00,  0.00000000e+00,\n",
       "         0.00000000e+00,  0.00000000e+00,  0.00000000e+00,\n",
       "         0.00000000e+00,  0.00000000e+00,  0.00000000e+00,\n",
       "         0.00000000e+00,  0.00000000e+00,  0.00000000e+00]])"
      ]
     },
     "execution_count": 12,
     "metadata": {},
     "output_type": "execute_result"
    }
   ],
   "source": [
    "Jtool3 = Jtool[:3,:]\n",
    "A = np.transpose(Jtool3)\n",
    "np.linalg.pinv(A@Jtool3)"
   ]
  },
  {
   "attachments": {},
   "cell_type": "markdown",
   "metadata": {},
   "source": [
    "#### Jacobian as a velocity operator\n",
    "A first way to understand what is this matrix is to see that as an operator that converts the velocity in the configuration space into the linear velocity of the end effector."
   ]
  },
  {
   "cell_type": "code",
   "execution_count": 13,
   "metadata": {},
   "outputs": [],
   "source": [
    "vtool = Jtool3 @ vq"
   ]
  },
  {
   "attachments": {},
   "cell_type": "markdown",
   "metadata": {},
   "source": [
    "But in which frame is $v_{tool}$ expressed? The choice in Pinocchio (following algorithmic principles described in [Featherstone 2009]) is to expressed quantities in the local frame by default. So vtool is expressed in the tool frame $F_{tool}$. We should better denote it with its frame. We can compute the velocity in the world frame $F_0$, knowing that $F_{tool}$ is place with a relative rotation $^{o}R_{tool}$:"
   ]
  },
  {
   "cell_type": "code",
   "execution_count": 14,
   "metadata": {},
   "outputs": [],
   "source": [
    "toolvtool = vtool\n",
    "ovtool = oMtool.rotation @ vtool"
   ]
  },
  {
   "cell_type": "code",
   "execution_count": 15,
   "metadata": {},
   "outputs": [],
   "source": [
    "tool_Jtool = pin.computeFrameJacobian(robot.model,robot.data,q,IDX_TOOL, pin.LOCAL)\n",
    "tool_Jtool3 = tool_Jtool[:3,:]\n",
    "#Est a priori la même que J_tool, puisque choisit tool_frame par défault\n",
    "#tool_Jtool3 - tool_Jtool = 0"
   ]
  },
  {
   "attachments": {},
   "cell_type": "markdown",
   "metadata": {},
   "source": [
    "We are using here long variable names. In the code, these explicit notations are maybe to much. It is your choice to use them or not. For sure, you should use similar notations on the paper board when formulating your algorithm, but maybe you prefer lighter variable naming for implementing it.\n",
    "The tool velocity is easier to interpret in the world frame."
   ]
  },
  {
   "attachments": {},
   "cell_type": "markdown",
   "metadata": {},
   "source": [
    "We generalize this notation to the jacobian part dedicated to linear velocity expressed in the world frame $F_0$:"
   ]
  },
  {
   "cell_type": "code",
   "execution_count": 16,
   "metadata": {},
   "outputs": [],
   "source": [
    "o_Jtool3 = oMtool.rotation @ tool_Jtool3"
   ]
  },
  {
   "attachments": {},
   "cell_type": "markdown",
   "metadata": {},
   "source": [
    "$^0M_{tool}$ is the displacement matrix of $SE(3)$, relating the tool frame and the world frame by this matrix transformation."
   ]
  },
  {
   "attachments": {},
   "cell_type": "markdown",
   "metadata": {},
   "source": [
    "To be more precise, relation between jacobian, motion and frame can be as follow:\n",
    "$$^{tool}J_{tool} \\dot{q} = ^{tool}w_{tool} = [^{tool}v_{tool}, ^{tool}\\omega_{tool}]$$ is the instantoneous solid motion of frame $F_{tool}$ express in itself. $^{tool}w_{tool}$ is a twist, an element of the algebra $\\mathfrak{se}(3)$. We can interpret $^{tool}v_{tool}$ as the point velocity of the frame $F_{tool}$ origin express in itself and $^{tool}\\omega_{tool}$ as the instaneous rotation axis/amplitude.\n",
    "\n",
    "Then we can express those two vectors in the world origin $F_{0}$ using $^0R_{tool}$. we have: $$[^{0}v_{tool}, ^{0}\\omega_{tool}] = [^0R_{tool}\\vphantom{.}^{tool}v_{tool}, ^0R_{tool}\\vphantom{.}^{tool}\\omega_{tool}]$$\n",
    "the quantities $^{0}v_{tool}$ and $^{0}\\omega_{tool}$ are easily interpretable as the same vector quantities in a different frame.\n",
    "\n",
    "However, we can also express the whole instantaneous motion in the original frame:\n",
    "$$^{0}w_{tool} = ^{0}J_{tool}\\dot{q} = ^{0}X_{tool}\\vphantom{.}^{tool}J_{tool} \\dot{q}$$\n",
    "where $^{0}X_{tool}$ is the adjoint operator related to $^{0}R_{tool}, ^{0}T_{tool}$ that allows to change frame for element of $\\mathfrak{se}(3)$. We can note that:\n",
    "$$^{0}w_{tool} = ^{0}X_{tool}[^{tool}v_{tool}, ^{tool}\\omega_{tool}] = [^0R_{tool}\\vphantom{.}^{tool}v_{tool} + ^0T_{tool} \\wedge ^0R_{tool}\\vphantom{.}^{tool}\\omega_{tool}, ^0R_{tool}\\vphantom{.}^{tool}\\omega_{tool}]=[^0v_{tool} + ^0T_{tool} \\wedge ^{0}\\omega_{tool}, ^{0}\\omega_{tool}]$$\n",
    "note here that the angular component of $^{0}w_{tool}$ is $^{0}\\omega_{tool}$ but the linear part is not $^0v_{tool}$ but use the Varignon formula instead. It has not an easy interpretation on its own, it is the linear part of the instantaneous motion express in the world frame."
   ]
  },
  {
   "attachments": {},
   "cell_type": "markdown",
   "metadata": {},
   "source": [
    "#### Jacobian as a derivative\n",
    "In the previous, jacobians are operator transforming configuration velocity into Frame instantaneous motion (velocity in $SE(3)$) and frame manipulation allow to express velocity of the origin or instaneous motion in every other frame.\n",
    "\n",
    "A second interpretation of is to observe that it is the derivative of the placement following q. For the three first colums, it is the derivative of the vector $^0T_{tool} = (o_{tool} - o_0)$ the tool position in world frame. Indeed $^0T_{tool}$ is a function of q: $^0T(q)$, the function is actually the forward kinematic. We can take its derivative with respect to q, denoted $\\frac{\\partial ^0T_{tool}}{\\partial q}$. This derivatives is equal to the Jacobian expressed in the world frame $F_0$: $\\frac{\\partial ^0T}{\\partial q} = \\vphantom{.}^0J_{tool3}$.\n",
    "\n",
    "The global jacobian is the same for the whole motion expression using the algebra of the Lie group $SE(3)$\n",
    "\n",
    "$$^{tool}J_{tool}(q) u = \\lim_{t \\to 0^+}\\frac{^{0}M_{tool}(q \\oplus_{\\mathcal{C}} tu) \\ominus_{SE(3)} \\vphantom{.}^{0}M_{tool}(q)}{t}$$\n",
    "\n",
    "\n",
    "\n",
    "To be convinced of that, let's check the finite differences. We take a small movement dq, and see that the change in position `o_OT(q+dq)` corresponds to the linear prediction `o_Jtool3*dq`.\n"
   ]
  },
  {
   "cell_type": "code",
   "execution_count": 17,
   "metadata": {},
   "outputs": [
    {
     "name": "stdout",
     "output_type": "stream",
     "text": [
      "Full jacobian in the tool frame\n",
      "[ 0.00810341 -0.81350577  0.16065377  1.68706728  0.00787755  1.27262453]\n",
      "[ 0.00807765 -0.81346896  0.1606636   1.68707628  0.00781987  1.27260754]\n",
      "\n",
      "Origin velocity in the world frame\n",
      "[0.72769821 0.09169552 0.38692917]\n",
      "[0.72767472 0.09171515 0.38689485]\n",
      "[0.72764396 0.09167097 0.38696316]\n"
     ]
    }
   ],
   "source": [
    "# Sample between -0.001 and 0.001\n",
    "EPS = 1e-4\n",
    "u = (np.random.rand(robot.model.nv)*2-1)\n",
    "dq = u*EPS\n",
    "\n",
    "# q2 = q+dq\n",
    "q2 = pin.integrate(robot.model,q,dq)\n",
    "\n",
    "# tool position for q\n",
    "pin.framesForwardKinematics(robot.model,robot.data,q)\n",
    "o_M_tool = robot.data.oMf[IDX_TOOL].copy()\n",
    "o_T_tool = o_M_tool.translation\n",
    "\n",
    "# tool position for q+dq\n",
    "pin.framesForwardKinematics(robot.model,robot.data,q2)\n",
    "o_M_tool2 = robot.data.oMf[IDX_TOOL].copy() #transformation matrix between frame o and tool\n",
    "o_T_tool2 = o_M_tool2.translation #translation part of the rigid-body \n",
    "\n",
    "print('Full jacobian in the tool frame')\n",
    "print((tool_Jtool @ u))\n",
    "print(pin.log(o_M_tool.inverse() * o_M_tool2).vector / EPS)\n",
    "\n",
    "print('\\nOrigin velocity in the world frame')\n",
    "print((o_Jtool3 @ u))\n",
    "print(o_M_tool.rotation @ pin.log(o_M_tool.inverse() * o_M_tool2).linear / EPS)\n",
    "print((o_T_tool2 - o_T_tool)/EPS)"
   ]
  },
  {
   "attachments": {},
   "cell_type": "markdown",
   "metadata": {},
   "source": [
    "#### Frame options in Pinocchio\n",
    "Most algorithms accept an option to specify in wich frame the spatial quantity should be expressed. The two basic options are `pin.LOCAL` and `pin.WORLD`. When related to velocity, *LOCAL* is the linear velocity of the center of the local frame (the TOOL_IDX frame, here) and the angular velocity, both expressed in the local frame. With *WORLD* frame, this is the instantaneous motion expressed in the world frame. It is also composed of a linear and an angular velocity but remember that the linear velocity is then difficult to interpret.\n",
    "\n",
    "A last option is given by convenience, which does not respect the mathematics of spatial velocity, but matches the French \"torseur cinématique\": `pin.LOCAL_WORLD_ALIGNED` gives the linear velocity of the center of the local frame and the angular velocity, both expressed in the world frame. It is convenient especially when we are interested to consider the linear velocity as the derivative of the position. This is what we did above.\n",
    "\n",
    "To recap:\n",
    "- `pin.LOCAL` gives $^{tool}w_{tool} = [^{tool}v_{tool}, ^{tool}\\omega_{tool}]$\n",
    "- `pin.WORLD` gives $^{0}w_{tool} =\\vphantom{.}^{0}X_{tool}\\vphantom{.}^{tool}w_{tool}=\\left(\\begin{array}{c|c} \n",
    "  ^0R_{tool} & [^0T_{tool}]_{\\times}\\vphantom{.}^0R_{tool} \\\\ \n",
    "  \\hline \n",
    "  0 & ^0R_{tool}\n",
    "\\end{array} \n",
    "\\right)\\vphantom{.}^{tool}w_{tool}$\n",
    "- `pin.LOCAL_WORLD_ALIGNED` gives $[^{0}v_{tool}, ^{0}\\omega_{tool}]=\\left(\n",
    "\\begin{array}{c|c} \n",
    "  ^0R_{tool} & 0 \\\\ \n",
    "  \\hline \n",
    "  0 & ^0R_{tool}\n",
    "\\end{array} \n",
    "\\right)\\vphantom{.}^{tool}w_{tool}$\n"
   ]
  },
  {
   "cell_type": "code",
   "execution_count": 18,
   "metadata": {},
   "outputs": [
    {
     "name": "stdout",
     "output_type": "stream",
     "text": [
      "[ 2.97451194  1.08993554  0.75361457  0.90342266 -1.763813   -0.73390903]\n",
      "[ 2.97451193  1.08993555  0.75361457  0.90342267 -1.76381299 -0.73390903]\n",
      "[0.72763668 0.09160715 0.3870658 ]\n",
      "[0.72769821 0.09169552 0.38692917]\n"
     ]
    }
   ],
   "source": [
    "# 0wtool and toolwtool\n",
    "tool_Jtool = pin.computeFrameJacobian(robot.model,robot.data,q,IDX_TOOL, pin.LOCAL) # Permet de passer de l'espace des configurations \n",
    "#à l'espace réel dans le tool frame\n",
    "o_Jtool = pin.computeFrameJacobian(robot.model,robot.data,q,IDX_TOOL, pin.WORLD) #Pareil mais pour le world frame\n",
    "print(o_Jtool @ u)\n",
    "print(oMtool.action @ (tool_Jtool @ u))\n",
    "\n",
    "# 0vtool and toolwtool\n",
    "o_Jtool3 = oMtool.rotation @ tool_Jtool[:3, :] #Changement de réferentiel dans le world frame\n",
    "print((o_Jtool3 @ u))\n",
    "new_o_Jtool3 = pin.computeFrameJacobian(robot.model,robot.data,q,IDX_TOOL, pin.LOCAL_WORLD_ALIGNED)[:3,:]\n",
    "print((new_o_Jtool3 @ u))"
   ]
  },
  {
   "attachments": {},
   "cell_type": "markdown",
   "metadata": {},
   "source": [
    "You may see this video which explain with more illustriations the 3 frame options:  https://youtu.be/MLFtHLTprE4 "
   ]
  },
  {
   "attachments": {},
   "cell_type": "markdown",
   "metadata": {},
   "source": [
    "## Inverse kinematics for the moving the robot effector\n",
    "We will first move only the robot end effector, to reach a target defined by a frame F_goal.\n",
    "\n",
    "Note : the quaternion in initialization is normalised because it represents a rotation."
   ]
  },
  {
   "cell_type": "code",
   "execution_count": 19,
   "metadata": {},
   "outputs": [],
   "source": [
    "# Goal placement, and integration in the viewer of the goal.\n",
    "oMgoal = pin.SE3(pin.Quaternion(-0.5, 0.58, -0.39, 0.52).normalized().matrix(),\n",
    "                np.array([1.2, .4, .7]))\n",
    "viz.addBox('goal', [.1,.1,.1], [ .1,.1,.5, .6] )\n",
    "viz.applyConfiguration('goal',oMgoal)"
   ]
  },
  {
   "attachments": {},
   "cell_type": "markdown",
   "metadata": {},
   "source": [
    "### Position the effector (3d)\n",
    "It is time to write your first control law. Write a for-loop to iterate along the control cycles of the robot. At each control cycle, you should:\n",
    "* compute the Jacobian 3D in the world frame `o_Jtool3`\n",
    "* compute the vector from the tool to the goal, expressed in world frame: o_TG = o_goal - o_tool \n",
    "* compute the control law as vq=pinv(o_Jtool3) * o_TG\n",
    "* integrate the velocity vq during DT to get a new configuration q.\n",
    "You might want to start from the following initial configuration, or from any random one.\n",
    "\n",
    "`pinv(J)` computes  $J^+$ the moore penrose pseudo inverse of $J$. Precisely, for any $e$, $J^+ e$ is the solution of the linear least square problem:\n",
    "$$\\min_x \\|Jx - e\\|_2^2$$\n",
    "\n",
    "We only use $J3$ because we are only after minimizing the distance between the goal and the EoE."
   ]
  },
  {
   "cell_type": "code",
   "execution_count": 20,
   "metadata": {},
   "outputs": [
    {
     "data": {
      "text/plain": [
       "array([-0.96479096, -0.07640466,  0.38473032,  0.92302903,  1.00686187,\n",
       "        0.56519243, -0.8551007 , -3.39853971,  0.59196492, -1.91211063,\n",
       "       -0.59983352,  1.58669711, -0.67066782, -1.32688174, -0.90013967,\n",
       "       -0.43560139, -0.96102215, -0.27647137])"
      ]
     },
     "execution_count": 20,
     "metadata": {},
     "output_type": "execute_result"
    }
   ],
   "source": [
    "# Robot initial configuration\n",
    "q0 = np.array([ 0.  ,  0.  ,  1.  ,  0.  ,  0.18,  1.37, -0.24, -0.98,  0.98,\n",
    "                0.  ,  0.  ,  0.  ,  0.  , -0.13,  0.  ,  0.  ,  0.  ,  0.  ])\n",
    "DT = 1e-2  # seconds\n",
    "o_Jtool = pin.computeFrameJacobian(robot.model,robot.data,q,IDX_TOOL, pin.WORLD) #Dans le référentiel world\n",
    "o_Jtool3 = o_Jtool[:3,:]\n",
    "\n",
    "#Spatial coordinates of the basis and tool in world frame\n",
    "pin.framesForwardKinematics(robot.model,robot.data,q)\n",
    "\n",
    "\n",
    "oMtool = robot.data.oMf[IDX_TOOL]\n",
    "oMbasis = robot.data.oMf[IDX_BASIS]\n",
    "o_TG = np.array(oMgoal)[:-1,-1] - np.array(oMtool)[:-1,-1]\n",
    "\n",
    "J_penrose = np.linalg.pinv(o_Jtool3)\n",
    "v_q = J_penrose@o_TG\n",
    "\n",
    "pin.integrate(robot.model,q,vq*DT)"
   ]
  },
  {
   "attachments": {},
   "cell_type": "markdown",
   "metadata": {},
   "source": [
    "It is a good idea to store the values of the error between tool and goal o_TG, to plot them later. For that, simply append each o_TG computed at every control cycle in a list."
   ]
  },
  {
   "cell_type": "code",
   "execution_count": 21,
   "metadata": {},
   "outputs": [],
   "source": [
    "# Robot initial configuration.\n",
    "q0 = np.array([ 0.  ,  0.  ,  1.  ,  0.  ,  0.18,  1.37, -0.24, -0.98,  0.98,\n",
    "                0.  ,  0.  ,  0.  ,  0.  , -0.13,  0.  ,  0.  ,  0.  ,  0.  ])\n",
    "q = q0.copy() \n",
    "DT = 1e-2\n",
    "\n",
    "herr = [] # Log the value of the error between tool and goal.\n",
    "\n",
    "for i in range(600):\n",
    "\n",
    "    pin.framesForwardKinematics(robot.model,robot.data,q)\n",
    "\n",
    "    o_Jtool = pin.computeFrameJacobian(robot.model,robot.data,q,IDX_TOOL, pin.WORLD) #In world frame at point q\n",
    "\n",
    "    o_Jtool3 = o_Jtool[:3,:] #Only interested in first three row\n",
    "    \n",
    "    J_penrose = np.linalg.pinv(o_Jtool3)\n",
    "\n",
    "    oMtool = robot.data.oMf[IDX_TOOL]\n",
    "\n",
    "    o_TG = np.array(oMgoal)[:-1,-1] - np.array(oMtool)[:-1,-1]\n",
    "\n",
    "    v_q = J_penrose@o_TG\n",
    "\n",
    "    q  = pin.integrate(robot.model,q,v_q*DT)\n",
    "\n",
    "    viz.display(q)\n",
    "    time.sleep(1e-3)\n",
    "\n",
    "    herr.append(o_TG)"
   ]
  },
  {
   "attachments": {},
   "cell_type": "markdown",
   "metadata": {},
   "source": [
    "It is interesting to plot the behavior of the robot. If the error at each iteration has been stored as a list of 3x1 matrices, the following code plots it."
   ]
  },
  {
   "cell_type": "code",
   "execution_count": 22,
   "metadata": {},
   "outputs": [
    {
     "data": {
      "image/png": "[encoded data removed]",
      "text/plain": [
       "<Figure size 640x480 with 1 Axes>"
      ]
     },
     "metadata": {},
     "output_type": "display_data"
    }
   ],
   "source": [
    "plt.plot(herr)\n",
    "plt.xlabel('control cycle (iter)')\n",
    "plt.ylabel('error (m)');"
   ]
  },
  {
   "attachments": {},
   "cell_type": "markdown",
   "metadata": {},
   "source": [
    "We can observe that each component of the error converges toward 0 following an exponential trajetory. The convergence is assymptotic. To fasten the convergence, increase the gain of the control law ($v_q = \\lambda J^+ e$), where the gain $\\lambda$ has yet been set to 1."
   ]
  },
  {
   "attachments": {},
   "cell_type": "markdown",
   "metadata": {},
   "source": [
    "### Place the end effector (6D)\n",
    "The previous control law brings the center of the effector toward the center of the goal frame. However, it does not control the orientation of the end effector: the axes of the two frames F_tool and F_goal do not converge.\n",
    "We should now modify the control law to take into account the tool orientation. For that, we compute the error to be the SE(3) log of the displacement from the tool frame $F_{tool}$ to the goal frame $F_{goal}$.\n",
    "\n",
    "We will use `J` instead of `J3`, and we need to compute  a vector of the generalized difference between the tool frame and the goal frame:\n",
    "$$^{tool}M_{goal} = \\vphantom{.}^{o}M_{tool} \\vphantom{.}^{-1} \\vphantom{.}^{o}M_{goal}$$\n",
    "$$^{tool}w_{goal} = \\vphantom{.}^{o}M_{goal} \\ominus_{SE(3)} \\vphantom{.}^{o}M_{tool} = log_{SE(3)}(^{tool}M_{goal})$$\n",
    "where $^{tool}w_{goal}$ is a spatial vector in the local frame."
   ]
  },
  {
   "cell_type": "code",
   "execution_count": 23,
   "metadata": {},
   "outputs": [],
   "source": [
    "toolMgoal = oMtool.inverse() * oMgoal\n",
    "tool_w = pin.log(toolMgoal).vector "
   ]
  },
  {
   "attachments": {},
   "cell_type": "markdown",
   "metadata": {},
   "source": [
    "This error $^{tool}w$ is a 6d vector, that can be interpreted as the spatial (6d) velocity that should be applied during 1 second to displace the tool frame F_tool (placed at oMtool) to the goal frame F_goal (placed at oMgoal). This spatial velocity is expressed in the tool frame F_tool. It then corresponds to the 6D jacobian, that is also computed in the same frame F_tool.\n",
    "\n",
    "Implement a second control law, following the same pattern than the previous control law. At each control cycle, you should:\n",
    "* compute the displacement between F_tool and F_goal, denoted $^{tool}M_{goal}$\n",
    "* compute the error twist $^{tool}w$ using the logarithm over $SE(3)$\n",
    "* compute the 6D jacobian $^{tool}J_{tool}$\n",
    "* compute the control law $v_q = pinv(J)*w$\n",
    "* integrate the robot velocity vq during DT to get a new configuration q\n",
    "* log the error by storing it in a list herr."
   ]
  },
  {
   "cell_type": "code",
   "execution_count": 24,
   "metadata": {},
   "outputs": [],
   "source": [
    "# Your code\n",
    "\n",
    "herr_2 = []\n",
    "\n",
    "for i in range(1000):\n",
    "\n",
    "    pin.framesForwardKinematics(robot.model,robot.data,q)\n",
    "\n",
    "    toolMgoal = oMtool.inverse() * oMgoal #1st step\n",
    "\n",
    "    tool_w = pin.log(toolMgoal).vector  #2nd step, compute the velocity in tool frame\n",
    "\n",
    "    tool_Jtool = pin.computeFrameJacobian(robot.model,robot.data,q,IDX_TOOL, pin.LOCAL) #3rd step, compute jacobian in tool frame of the tool\n",
    "\n",
    "    v_q = np.linalg.pinv(tool_Jtool) @ tool_w #4th step, compute the control law to minimize the quadratic problem, taking this time into account orientation\n",
    "\n",
    "    q  = pin.integrate(robot.model,q,v_q*DT)#5th step, one integrate the calculated solution to get the good direction.\n",
    "\n",
    "    herr_2 += [tool_w]"
   ]
  },
  {
   "attachments": {},
   "cell_type": "markdown",
   "metadata": {},
   "source": [
    "The tool frame F_tool converges toward the gooal frame F_goal: the center and the axes are finally aligned. The trajectory of the tool center is not a straight line, as the frame F_tool follows a \"straight\" line, not in R^3 but in SE(3).\n",
    "We can also plot the error (assuming that herr is a list of the 6D errors herr)."
   ]
  },
  {
   "cell_type": "code",
   "execution_count": 25,
   "metadata": {},
   "outputs": [
    {
     "data": {
      "image/png": "[encoded data removed]",
      "text/plain": [
       "<Figure size 640x480 with 2 Axes>"
      ]
     },
     "metadata": {},
     "output_type": "display_data"
    }
   ],
   "source": [
    "plt.subplot(211)\n",
    "plt.plot([ e[:3] for e in herr_2])\n",
    "plt.xlabel('control cycle (iter)')\n",
    "plt.ylabel('error (m)')\n",
    "plt.subplot(212)\n",
    "plt.plot([ e[3:] for e in herr_2])\n",
    "plt.xlabel('control cycle (iter)')\n",
    "plt.ylabel('error (rad)');\n"
   ]
  },
  {
   "attachments": {},
   "cell_type": "markdown",
   "metadata": {},
   "source": [
    "### Inverse kinematics for two tasks\n",
    "We yet controlled the robot with a single task (either the 3d position or the 6d placement errors). Let's see how to take into account a second task. Let's first introduce a second task. \n",
    "\n",
    "#### Introducing a second task: control the gaze\n",
    "The robot has an additional frame named $F_{gaze}$, attached to the head and located 40 cm in front of the cameras. The task will be to position (3d) the center of this frame on an object of interest (a red ball)."
   ]
  },
  {
   "cell_type": "code",
   "execution_count": 26,
   "metadata": {},
   "outputs": [
    {
     "name": "stdout",
     "output_type": "stream",
     "text": [
      "You can open the visualizer by visiting the following URL:\n",
      "http://127.0.0.1:7001/static/\n"
     ]
    }
   ],
   "source": [
    "robot = loadTiago(addGazeFrame=True)\n",
    "viz = MeshcatVisualizer(robot)"
   ]
  },
  {
   "cell_type": "code",
   "execution_count": 27,
   "metadata": {},
   "outputs": [],
   "source": [
    "IDX_GAZE = robot.model.getFrameId('framegaze')\n",
    "\n",
    "# Add a small ball as a visual target to be reached by the robot\n",
    "ball = np.array([ 1.2,0.5,1.1 ])\n",
    "viz.addSphere('ball', .05, [ .8,.1,.5, 0.8] ) #add a sphere of radius 0.5, color rgb [0.8,1,0.5] and transparancy 0.8\n",
    "viz.applyConfiguration('ball', list(ball)+[0,0,0,1])\n",
    "\n",
    "# Add the box again\n",
    "oMgoal = pin.SE3(pin.Quaternion(-0.5, 0.58, -0.39, 0.52).normalized().matrix(),\n",
    "                np.array([1.2, .4, .7])) #define a configuration\n",
    "viz.addBox('goal', [.1,.1,.1], [ .1,.1,.5, .6] ) #add a box\n",
    "viz.applyConfiguration('goal',oMgoal)\n"
   ]
  },
  {
   "cell_type": "code",
   "execution_count": 28,
   "metadata": {},
   "outputs": [
    {
     "data": {
      "text/html": [
       "\n",
       "            <div style=\"height: 400px; width: 100%; overflow-x: auto; overflow-y: hidden; resize: both\">\n",
       "            <iframe src=\"http://127.0.0.1:7001/static/\" style=\"width: 100%; height: 100%; border: none\"></iframe>\n",
       "            </div>\n",
       "            "
      ],
      "text/plain": [
       "<IPython.core.display.HTML object>"
      ]
     },
     "execution_count": 28,
     "metadata": {},
     "output_type": "execute_result"
    }
   ],
   "source": [
    "viz.display(q0)\n",
    "viz.viewer.jupyter_cell()"
   ]
  },
  {
   "attachments": {},
   "cell_type": "markdown",
   "metadata": {},
   "source": [
    "Controlling this point can be done by achieving a simple variation of the control law for positioning (3d) the robot tool."
   ]
  },
  {
   "cell_type": "code",
   "execution_count": 29,
   "metadata": {},
   "outputs": [],
   "source": [
    "# Robot initial configuration.\n",
    "q0 = np.array([ 0.  ,  0.  ,  1.  ,  0.  ,  0.18,  1.37, -0.24, -0.98,  0.98,\n",
    "                0.  ,  0.  ,  0.  ,  0.  , -0.13,  0.  ,  0.  ,  0.  ,  0.  ])\n",
    "q = q0.copy() \n",
    "DT = 1e-2\n",
    "\n",
    "herr = []\n",
    "\n",
    "\n",
    "\n",
    "for i in range(1000):  # Integrate over 2 second of robot life\n",
    "\n",
    "    pin.framesForwardKinematics(robot.model,robot.data,q)\n",
    "\n",
    "    o_Jgaze = pin.computeFrameJacobian(robot.model,robot.data,q,IDX_GAZE, pin.WORLD) #In world frame at point q\n",
    "\n",
    "    o_Jgaze3 = o_Jgaze[:3,:] #Only interested in first three row for the translation part and not orientation (3D control)\n",
    "\n",
    "    J_penrose = np.linalg.pinv(o_Jgaze3)\n",
    "\n",
    "    oMgaze = robot.data.oMf[IDX_GAZE]\n",
    "\n",
    "    o_G_Goal = ball - oMgaze.translation\n",
    "\n",
    "    v_q = J_penrose@o_G_Goal\n",
    "\n",
    "    q  = pin.integrate(robot.model,q,v_q*DT)\n",
    "\n",
    "    viz.display(q)\n",
    "    time.sleep(1e-3)\n",
    "\n",
    "    herr.append(o_G_Goal)"
   ]
  },
  {
   "cell_type": "code",
   "execution_count": 30,
   "metadata": {},
   "outputs": [
    {
     "data": {
      "image/png": "[encoded data removed]",
      "text/plain": [
       "<Figure size 640x480 with 1 Axes>"
      ]
     },
     "metadata": {},
     "output_type": "display_data"
    }
   ],
   "source": [
    "plt.plot(herr)\n",
    "plt.xlabel('control cycle (iter)')\n",
    "plt.ylabel('error (m)');"
   ]
  },
  {
   "attachments": {},
   "cell_type": "markdown",
   "metadata": {},
   "source": [
    "#### Performing 2 tasks\n",
    "\n",
    "We now have two tasks (e1,J1) controlling the tool placement and (e2,J2) controlling the gaze position.\n",
    "\n",
    "We use the previous technique to compute:\n",
    "$$v_{q_{1}} = J_1^+ v_1^*$$\n",
    "the optimal (in a least square sense) control for task 1. Then we can add any vector which is in the null space of $J_1$ to perform the second task. We search for $v_q = v_{q_{1}} + dv_q$ where $dv_q$ gives an optimal control for task 2.\n",
    "\n",
    "The orthogonal null space projector of $J_1$ can be computed using the pseudoinverse.\n",
    "$$P_1 = I_{nq} - J_1^+J_1$$\n",
    "Finally, the control law to perform task 1 and task 2 in the null space of task 1 is:\n",
    "\n",
    "$$v_{q_2} = v_{q_1} + (J_2 P_1)^+ ( v_2^* - J_2 v_{q_1})$$\n",
    "\n",
    "You can now implement a control law solving the two tasks, i.e positioning the tool while controlling the gaze. Where we use $dv_q$ being a solution of the minimisation problem:\n",
    "$$\\min_{x\\in Ker(J_1)} \\|J_2 (v_{q_1} + x) - v_2^*\\|_2^2$$\n"
   ]
  },
  {
   "cell_type": "code",
   "execution_count": 31,
   "metadata": {},
   "outputs": [],
   "source": [
    "q = q0.copy()\n",
    "\n",
    "DT = 1e-2\n",
    "herr = [] # Log the value of the error between tool and goal.\n",
    "herr2 = [] # Log the value of the error between gaze and ball.\n",
    "for i in range(400):  # Integrate over 2 second of robot life\n",
    "\n",
    "    pin.framesForwardKinematics(robot.model,robot.data,q)\n",
    "\n",
    "    o_Mtool = robot.data.oMf[IDX_TOOL]\n",
    "\n",
    "    toolMgoal = o_Mtool.inverse() * oMgoal \n",
    "\n",
    "    tool_Jtool = pin.computeFrameJacobian(robot.model,robot.data,q,IDX_TOOL, pin.LOCAL) \n",
    "\n",
    "    tool_w = pin.log(toolMgoal).vector \n",
    "\n",
    "    v_q1 = np.linalg.pinv(tool_Jtool) @ tool_w\n",
    "\n",
    "    herr += [tool_w]\n",
    "\n",
    "\n",
    "    Z =  np.linalg.pinv(tool_Jtool) @ tool_Jtool\n",
    "\n",
    "    P1 = np.eye(robot.nv) - Z\n",
    "\n",
    "    o_Jgaze = pin.computeFrameJacobian(robot.model,robot.data,q,IDX_GAZE, pin.WORLD) #In world frame at point q\n",
    "\n",
    "    oMgaze = robot.data.oMf[IDX_GAZE]\n",
    "\n",
    "    o_G_Goal = ball - oMgaze.translation\n",
    "\n",
    "    o_Jgaze3 = o_Jgaze[:3]\n",
    "\n",
    "    O = (o_Jgaze3 @ v_q1)\n",
    "\n",
    "    err_q2 = np.concatenate([o_G_Goal - O,[0,0,0]])\n",
    "\n",
    "    v_q2 = v_q1 + np.linalg.pinv(o_Jgaze @ P1) @ err_q2 #We can check that if v_q1 is null, the tool doesn't move\n",
    "\n",
    "\n",
    "    q = pin.integrate(robot.model, q, v_q2*DT)\n",
    "\n",
    "    herr2.append(o_G_Goal)\n",
    "\n",
    "    # viz.display(q)\n",
    "    # time.sleep(1e-3)"
   ]
  },
  {
   "cell_type": "code",
   "execution_count": 32,
   "metadata": {},
   "outputs": [
    {
     "data": {
      "image/png": "[encoded data removed]",
      "text/plain": [
       "<Figure size 640x480 with 3 Axes>"
      ]
     },
     "metadata": {},
     "output_type": "display_data"
    }
   ],
   "source": [
    "plt.subplot(311)\n",
    "plt.plot([ e[:3] for e in herr])\n",
    "plt.xlabel('control cycle (iter)')\n",
    "plt.ylabel('error (m)')\n",
    "plt.subplot(312)\n",
    "plt.plot([ e[3:] for e in herr])\n",
    "plt.xlabel('control cycle (iter)')\n",
    "plt.ylabel('error (rad)');\n",
    "plt.subplot(313)\n",
    "plt.plot([ e for e in herr2])\n",
    "plt.xlabel('control cycle (iter)')\n",
    "plt.ylabel('error (rad)');"
   ]
  },
  {
   "attachments": {},
   "cell_type": "markdown",
   "metadata": {},
   "source": [
    "## Extension"
   ]
  },
  {
   "attachments": {},
   "cell_type": "markdown",
   "metadata": {},
   "source": [
    "A third task can be implemented as well by computing the null space of the two first tasks:"
   ]
  },
  {
   "cell_type": "code",
   "execution_count": 33,
   "metadata": {},
   "outputs": [],
   "source": [
    "Ptool = P1\n",
    "Pgaze = Ptool - np.linalg.pinv(o_Jgaze3 @ Ptool) @ o_Jgaze3 @ Ptool #projecteur sur ker(J_1) U ker(J_2)"
   ]
  },
  {
   "attachments": {},
   "cell_type": "markdown",
   "metadata": {},
   "source": [
    "\n",
    "Load an extra cube in the viewer to figure a table. First control the robot hand to reach an arbitrary point on the table (don't mind for the collision). Then implement a control law to control three tasks:\n",
    "* the tool frame should be kept on the table (i.e. only the z component of the error matter, select only the 3rd row of the matrix).\n",
    "* the gaze should be control to reach the position of a ball object positionned on the table.\n",
    "* the center of the basis frame should reach a given target on the floor. For this task, only the x- and y- component of the task matter, select only the 2 first rows.\n"
   ]
  },
  {
   "cell_type": "code",
   "execution_count": 34,
   "metadata": {},
   "outputs": [
    {
     "name": "stdout",
     "output_type": "stream",
     "text": [
      "[0.75 0.05 0.  ]\n"
     ]
    },
    {
     "data": {
      "text/html": [
       "\n",
       "            <div style=\"height: 400px; width: 100%; overflow-x: auto; overflow-y: hidden; resize: both\">\n",
       "            <iframe src=\"http://127.0.0.1:7001/static/\" style=\"width: 100%; height: 100%; border: none\"></iframe>\n",
       "            </div>\n",
       "            "
      ],
      "text/plain": [
       "<IPython.core.display.HTML object>"
      ]
     },
     "execution_count": 34,
     "metadata": {},
     "output_type": "execute_result"
    }
   ],
   "source": [
    "# Your code\n",
    "\n",
    "IDX_GAZE = robot.model.getFrameId('framegaze')\n",
    "\n",
    "# Add a small ball as a visual target to be reached by the robot\n",
    "ball = np.array([ 1,0.3,1.1 ])\n",
    "viz.addSphere('ball', .05, [ .8,.1,.5, 0.8] ) #add a sphere of radius 0.5, color rgb [0.8,1,0.5] and transparancy 0.8\n",
    "viz.applyConfiguration('ball', list(ball)+[0,0,0,1])\n",
    "\n",
    "# Add an extra cube to figure the table\n",
    "oMgoal2 = pin.SE3(pin.Quaternion(0,0,0,0).normalized().matrix(),\n",
    "                np.array([0, 0, 0.5])) #define a configuration (orientation + position)\n",
    "viz.addBox('goal2', [2,2,.2], [ .9,.3,.8, .3] ) #add a box\n",
    "viz.applyConfiguration('goal2',oMgoal2)\n",
    "\n",
    "# Add a small ball as a visual target to be reached by the basis\n",
    "basis_goal = np.array([ball[0],ball[1],0]) + np.array([-0.25,-0.25,0]) #x-y coordinate of the basis goal\n",
    "viz.addSphere('basis goal', .05, [ .33,.34,.1, 1] ) #add a sphere of radius 0.5, color rgb [0.8,1,0.5] and transparancy 0.8\n",
    "viz.applyConfiguration('basis goal', list(basis_goal)+[0,0,0,1])\n",
    "print(basis_goal)\n",
    "viz.display(q0)\n",
    "viz.viewer.jupyter_cell()"
   ]
  },
  {
   "cell_type": "code",
   "execution_count": 35,
   "metadata": {},
   "outputs": [
    {
     "name": "stdout",
     "output_type": "stream",
     "text": [
      "[0.18066509052677704, 0.27556143561065927, 0.55]\n"
     ]
    }
   ],
   "source": [
    "Point_goal = [np.random.rand()*2 - 1, np.random.rand()*2 - 1, 0.55]\n",
    "print(Point_goal)"
   ]
  },
  {
   "cell_type": "code",
   "execution_count": 36,
   "metadata": {},
   "outputs": [],
   "source": [
    "# Robot initial configuration.\n",
    "q0 = np.array([ 0.  ,  0.  ,  1.  ,  0.  ,  0.18,  1.37, -0.24, -0.98,  0.98,\n",
    "                0.  ,  0.  ,  0.  ,  0.  , -0.13,  0.  ,  0.  ,  0.  ,  0.  ])\n",
    "q = q0.copy() \n",
    "DT = 1e-2\n",
    "\n",
    "herr = [] # Log the value of the error between tool and goal.\n",
    "\n",
    "for i in range(600):\n",
    "\n",
    "    pin.framesForwardKinematics(robot.model,robot.data,q)\n",
    "\n",
    "    o_Jtool = pin.computeFrameJacobian(robot.model,robot.data,q,IDX_TOOL, pin.WORLD) #In world frame at point q\n",
    "\n",
    "    o_Jtool3 = o_Jtool[:3,:] #Only interested in first three row\n",
    "\n",
    "    J_penrose = np.linalg.pinv(o_Jtool3)\n",
    "\n",
    "    oMtool = robot.data.oMf[IDX_TOOL]\n",
    "\n",
    "    o_TG = Point_goal - oMtool.translation\n",
    "\n",
    "    v_q = J_penrose@o_TG\n",
    "\n",
    "    q  = pin.integrate(robot.model,q,v_q*DT)\n",
    "\n",
    "    viz.display(q)\n",
    "    time.sleep(1e-3)\n",
    "\n",
    "    herr.append(o_TG)"
   ]
  },
  {
   "cell_type": "code",
   "execution_count": 37,
   "metadata": {},
   "outputs": [],
   "source": [
    "DT = 1e-2\n",
    "herr = [] # Log the value of the error between gaze and ball.\n",
    "herr2 = [] # Log the value of the error between basis and goal.\n",
    "herr3 = [] # Log the value of the error between tool and z-plane.\n",
    "for i in range(800):  # Integrate over 2 second of robot life\n",
    "\n",
    "    pin.framesForwardKinematics(robot.model,robot.data,q)\n",
    "# --------------------------------------------------------------------------------------\n",
    "#                           Control of the tool on the x-y plane\n",
    "    oMtool = robot.data.oMf[IDX_TOOL]\n",
    "\n",
    "    o_Jtool = pin.computeFrameJacobian(robot.model,robot.data,q,IDX_TOOL, pin.LOCAL_WORLD_ALIGNED)\n",
    "\n",
    "    o_Jtool2 = o_Jtool[2] #restiction \n",
    "\n",
    "    tool_w = [0, 0, 0.55 - oMtool.translation[2], 0, 0, 0]\n",
    "\n",
    "    v_q1 = np.linalg.pinv(o_Jtool) @ tool_w\n",
    "\n",
    "    Z =  np.linalg.pinv(o_Jtool) @ o_Jtool\n",
    "\n",
    "    Ptool = np.eye(len(Z)) - Z\n",
    "\n",
    "    herr3.append(tool_w)\n",
    "\n",
    "#--------------------------------------------------------------------------------------------\n",
    "#                                   Control of the gaze\n",
    "\n",
    "    o_Jgaze = pin.computeFrameJacobian(robot.model,robot.data,q,IDX_GAZE, pin.LOCAL_WORLD_ALIGNED) #In world frame at point q\n",
    "\n",
    "    oMgaze = robot.data.oMf[IDX_GAZE]\n",
    "\n",
    "    o_G_Goal = ball - oMgaze.translation\n",
    "\n",
    "    o_Jgaze3 = o_Jgaze[:3] #only the position\n",
    "\n",
    "    O = (o_Jgaze3 @ v_q1)\n",
    "\n",
    "    err_q2 = np.concatenate([o_G_Goal - O,[0,0,0]])\n",
    "\n",
    "    v_q2 = v_q1 + np.linalg.pinv(o_Jgaze @ P1) @ err_q2 #We can check that if v_q1 is null, the tool doesn't move\n",
    "\n",
    "    Pgaze = Ptool - np.linalg.pinv(o_Jgaze3 @ Ptool) @ o_Jgaze3 @ Ptool #projecteur sur ker(J_1) U ker(J_2)\n",
    "\n",
    "    herr.append(o_G_Goal)\n",
    "\n",
    "#-----------------------------------------------------------------------------------------------\n",
    "#                                   Control of the basis\n",
    "\n",
    "    o_Jbasis = pin.computeFrameJacobian(robot.model,robot.data,q,IDX_BASIS, pin.WORLD)\n",
    "\n",
    "    oMbasis = robot.data.oMf[IDX_BASIS]\n",
    "\n",
    "    o_G_basis_goal = basis_goal[:2] - oMbasis.translation[:2] #error\n",
    "\n",
    "    o_Jbasis2 = o_Jbasis[:2] #restriction to x-y plane\n",
    "\n",
    "    E = o_Jbasis2 @ v_q2\n",
    "\n",
    "    err_q3 = np.concatenate([o_G_basis_goal - E,[0,0,0,0]])\n",
    "\n",
    "    v_q3 = v_q2 + np.linalg.pinv(o_Jbasis @ Pgaze) @ err_q3\n",
    "\n",
    "    q = pin.integrate(robot.model, q, v_q3*DT)\n",
    "\n",
    "    herr2.append(o_G_basis_goal)\n",
    "\n",
    "    viz.display(q)\n",
    "    time.sleep(1e-3)"
   ]
  },
  {
   "cell_type": "code",
   "execution_count": 38,
   "metadata": {},
   "outputs": [
    {
     "data": {
      "image/png": "[encoded data removed]",
      "text/plain": [
       "<Figure size 640x480 with 3 Axes>"
      ]
     },
     "metadata": {},
     "output_type": "display_data"
    }
   ],
   "source": [
    "plt.subplot(311)\n",
    "plt.plot([e for e in herr])\n",
    "plt.xlabel('control cycle (iter)')\n",
    "plt.ylabel('error (m)')\n",
    "plt.subplot(312)\n",
    "plt.plot([ e for e in herr2])\n",
    "plt.xlabel('control cycle (iter)')\n",
    "plt.ylabel('error (m)');\n",
    "plt.subplot(313)\n",
    "plt.plot([ e for e in herr3])\n",
    "plt.xlabel('control cycle (iter)')\n",
    "plt.ylabel('error (m)');"
   ]
  }
 ],
 "metadata": {
  "kernelspec": {
   "display_name": "Python 3 (ipykernel)",
   "language": "python",
   "name": "python3"
  },
  "language_info": {
   "codemirror_mode": {
    "name": "ipython",
    "version": 3
   },
   "file_extension": ".py",
   "mimetype": "text/x-python",
   "name": "python",
   "nbconvert_exporter": "python",
   "pygments_lexer": "ipython3",
   "version": "3.10.13"
  }
 },
 "nbformat": 4,
 "nbformat_minor": 4
}
