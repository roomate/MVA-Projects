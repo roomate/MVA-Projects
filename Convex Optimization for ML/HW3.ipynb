{
 "cells": [
  {
   "cell_type": "code",
   "execution_count": 1,
   "metadata": {},
   "outputs": [],
   "source": [
    "import numpy as np\n",
    "import math\n",
    "import matplotlib.pyplot as plt"
   ]
  },
  {
   "cell_type": "markdown",
   "metadata": {},
   "source": [
    "### Introduction of the paramaters for the optimization problem"
   ]
  },
  {
   "cell_type": "code",
   "execution_count": 2,
   "metadata": {},
   "outputs": [],
   "source": [
    "#parameters of the problem\n",
    "n = 10 # dimension of the problem \n",
    "d = 100 # Number of constraints\n",
    "lambdad = 10\n",
    "\n",
    "np.random.seed(43)      \n",
    "X = np.random.rand(n,d)    \n",
    "np.random.seed(12)   \n",
    "y = np.random.rand(n)\n",
    "Q = np.eye(n)\n",
    "e = np.array([1 for i in range(2*d)])\n",
    "p = np.dot(y,-1)\n",
    "F = np.concatenate((np.transpose(X), - np.transpose(X)), axis = 0)\n",
    "b = np.dot(lambdad,e)\n",
    "eps = 10e-8\n",
    "t = 1\n",
    "Mu = [2,15,50,100, 500]\n"
   ]
  },
  {
   "cell_type": "markdown",
   "metadata": {},
   "source": [
    "We want to apply Newton's method on the following function : \n",
    "$$\n",
    "f_0(x) = \\frac{1}{2}x^T Q x + p^Tx  + \\phi(x)\n",
    "$$ where \n",
    "$$\n",
    "\\phi(x) = -\\sum\\limits_{i = 1}^{2d}\\log(\\lambda - f_i^Tx)\n",
    "$$\n",
    "We'll deal here in this case with no equality constraint, which simplify a bit the resolution.\n",
    "We have :\n",
    "$$\n",
    "\\nabla f_0(x) = Qx + p + \\sum \\limits_{i = 1}^{2d} \\displaystyle\\frac{f_i}{\\lambda - f_i^Tx}\n",
    "$$\n",
    "and \n",
    "$$\n",
    "\\nabla^2 f_0(x) = Q + \\sum\\limits_{i = 1}^{2d}\\displaystyle \\frac{f_i f_i^T}{(f_i^T x - \\lambda)^2} \n",
    "$$"
   ]
  },
  {
   "cell_type": "markdown",
   "metadata": {},
   "source": [
    "Computation of the hessian $\\nabla^2 f_t$"
   ]
  },
  {
   "cell_type": "code",
   "execution_count": 3,
   "metadata": {},
   "outputs": [],
   "source": [
    "def hess_f_t(Q,p,A,b,x,t): #evaluate the hessian of f at x\n",
    "    \"\"\"\n",
    "    return the hessian of the objective function at x\n",
    "\n",
    "    Args : \n",
    "        x: (array) the point at which we evaluate the function, sized [n,]\n",
    "        t: (int) parameter of the barrier method\n",
    "        b: (array) rhs of the linear inequality, sized [2d,]\n",
    "        A: (array) lhs of the linear inequality, sized [2d,n]\n",
    "        Q: (array), sized [n,n]\n",
    "        p: (array), sized [n,]\n",
    "    Returns:\n",
    "        hessian of f_0(x) : (array), sized [n,n]\n",
    "    \"\"\"\n",
    "    hess = Q*t\n",
    "    for i in range(2*d):\n",
    "        f_i = A[i] #ième ligne \n",
    "        mat = np.array([[f_i[i]*f_i[j] for i in range(n)] for j in range(n)])\n",
    "        hess += mat/(np.dot(f_i,x) - b[i])**2\n",
    "    return hess"
   ]
  },
  {
   "cell_type": "markdown",
   "metadata": {},
   "source": [
    "Computation of the jacobian $\\nabla f_t$"
   ]
  },
  {
   "cell_type": "code",
   "execution_count": 4,
   "metadata": {},
   "outputs": [],
   "source": [
    "def grad_f_t(Q,p,A,b,x,t):\n",
    "    \"\"\"\n",
    "    return the gradient of the objective function at x\n",
    "\n",
    "    Args : \n",
    "        x: (array) the point at which we evaluate the function, sized [n,]\n",
    "        t: (int) parameter of the barrier method\n",
    "        b: (array) rhs of the linear inequality, sized [2d,]\n",
    "        A: (array) lhs of the linear inequality, sized [2d,n]\n",
    "        Q: (array), sized [n,n]\n",
    "        p: (array), sized [n,]\n",
    "    Returns:\n",
    "        f_0(x) : (array), sized [n,]\n",
    "    \"\"\"\n",
    "    grad = t*(np.dot(Q,x) + p)\n",
    "    for i in range(2*d):\n",
    "        f_i = A[i]\n",
    "        grad += f_i/(b[i] - np.dot(f_i,x))\n",
    "    return grad"
   ]
  },
  {
   "cell_type": "markdown",
   "metadata": {},
   "source": [
    "Computation of the log-barrier function $\\phi$"
   ]
  },
  {
   "cell_type": "code",
   "execution_count": 5,
   "metadata": {},
   "outputs": [],
   "source": [
    "def check_feasible(A,b,x):\n",
    "    for i in range(2*d):\n",
    "        f_i = A[i]\n",
    "        if (b[i] - np.dot(f_i,x) < 0):\n",
    "            return False\n",
    "    return True"
   ]
  },
  {
   "cell_type": "code",
   "execution_count": 6,
   "metadata": {},
   "outputs": [],
   "source": [
    "def log_barrier(A,b,x):\n",
    "    \"\"\"\n",
    "    computation of the log_barrier function at x, return infinity if out of the domain\n",
    "    Args : \n",
    "        x: (array) the point at which we evaluate the function, sized [n,]\n",
    "        t: (int) parameter of the barrier method\n",
    "        b: (array) rhs of the linear inequality, sized [2d, ]\n",
    "        A: (array) lhs of the linear inequality, sized [2d,n]\n",
    "        Q: (array), sized [n,n]\n",
    "        p: (array), sized [n,]\n",
    "    Returns:\n",
    "        phi(x) : (int)\n",
    "    \"\"\"\n",
    "    phi = 0\n",
    "    check = check_feasible(A,b,x)\n",
    "    if check == False:\n",
    "        return math.inf\n",
    "    for i in range(2*d):\n",
    "        f_i = A[i]\n",
    "        phi -= np.log(b[i] - np.dot(f_i,x))\n",
    "    return phi"
   ]
  },
  {
   "cell_type": "markdown",
   "metadata": {},
   "source": [
    "Computation of the objective function $f_t$"
   ]
  },
  {
   "cell_type": "code",
   "execution_count": 17,
   "metadata": {},
   "outputs": [],
   "source": [
    "def f_t(Q,p,A,b,x,t):\n",
    "    \"\"\"\n",
    "    return the objective function evaluated at x\n",
    "    Args : \n",
    "        x: (array) the point at which we evaluate the function, sized [n,]\n",
    "        t: (int) parameter of the barrier method\n",
    "        b: (array) rhs of the linear inequality, sized [2d,]\n",
    "        A: (array) lhs of the linear inequality, sized [2d,n]\n",
    "        Q: (array), sized [n,n]\n",
    "        p: (array), sized [n,]\n",
    "    Returns:\n",
    "        f_0(x) : (int)\n",
    "    \"\"\"\n",
    "    f = t*(1/2*np.dot(x,np.dot(Q,x)) + np.dot(p,x))\n",
    "    phi = log_barrier(A,b,x)\n",
    "    return f + phi"
   ]
  },
  {
   "cell_type": "code",
   "execution_count": 8,
   "metadata": {},
   "outputs": [],
   "source": [
    "def f_0(Q,p,x):\n",
    "    \"\"\"\n",
    "    return the objective function evaluated at x\n",
    "    Args : \n",
    "        x: (array) the point at which we evaluate the function, sized [n,]\n",
    "        b: (array) rhs of the linear inequality, sized [2d,]\n",
    "        A: (array) lhs of the linear inequality, sized [2d,n]\n",
    "        Q: (array), sized [n,n]\n",
    "        p: (array), sized [n,]\n",
    "    Returns:\n",
    "        f_0(x) : (int)\n",
    "    \"\"\"\n",
    "    f = (1/2*np.dot(x,np.dot(Q,x)) + np.dot(p,x))\n",
    "    return f"
   ]
  },
  {
   "cell_type": "markdown",
   "metadata": {},
   "source": [
    "### Classic backtracking"
   ]
  },
  {
   "cell_type": "markdown",
   "metadata": {},
   "source": [
    "Implementation of the backtracking, with $\\omega_1 = 10^{-4}$ and $\\tau = 0.2$."
   ]
  },
  {
   "cell_type": "code",
   "execution_count": 9,
   "metadata": {},
   "outputs": [],
   "source": [
    "def backtracking(Q,p,A,b,x,t,dir):\n",
    "    \"\"\"\n",
    "    return the right step validating Armijo's rule.\n",
    "\n",
    "    Args : \n",
    "        x: (array) the point at which we evaluate the function, sized [n,]\n",
    "        t: (int) parameter of the barrier method\n",
    "        b: (array) rhs of the linear inequality, sized [2d,]\n",
    "        A: (array) lhs of the linear inequality, sized [2d,n]\n",
    "        Q: (array), sized [n,n]\n",
    "        p: (array), sized [n,]\n",
    "        dir: (array) the descent direction at iteration k, sized [n,]\n",
    "\n",
    "    Returns:\n",
    "        alpha : (int) the step for gradient descent according to armijo's rule\n",
    "    \"\"\"\n",
    "    k = 0\n",
    "    w = 10e-4\n",
    "    tau = 0.5\n",
    "    alpha = 1\n",
    "\n",
    "    grad_f = grad_f_t(Q,p,A,b,x,t)\n",
    "    x_new = x + alpha*dir\n",
    "    f = f_t(Q,p,A,b,x,t)\n",
    "    diff = f_t(Q,p,A,b,x_new,t) - (f + w*alpha*np.dot(dir,grad_f))\n",
    "    while (diff > 0 and k < 4):\n",
    "        k += 1\n",
    "        alpha *= tau\n",
    "        x_new = x + alpha*dir\n",
    "        diff = f_t(Q,p,A,b,x_new,t) - (f + w*alpha*np.dot(dir,grad_f))\n",
    "      #  print('dir = ', dir, 'x = ', x, 'alpha = ', alpha ,'diff = ', diff )\n",
    "       # print('diff = ', diff )\n",
    "    return alpha"
   ]
  },
  {
   "cell_type": "markdown",
   "metadata": {},
   "source": [
    "### gradient-based backtracking"
   ]
  },
  {
   "cell_type": "code",
   "execution_count": 10,
   "metadata": {},
   "outputs": [],
   "source": [
    "def backtracking_with_gradient(Q,p,A,b,x,t,dir):\n",
    "    \"\"\"\n",
    "    return the right step validating Armijo's rule.\n",
    "\n",
    "    Args : \n",
    "        x: (array) the point at which we evaluate the function, sized [n,]\n",
    "        t: (int) parameter of the barrier method\n",
    "        b: (array) rhs of the linear inequality, sized [2d,]\n",
    "        A: (array) lhs of the linear inequality, sized [2d,n]\n",
    "        Q: (array), sized [n,n]\n",
    "        p: (array), sized [n,]\n",
    "        dir: (array) the descent direction at iteration k, sized [n,]\n",
    "\n",
    "    Returns:\n",
    "        alpha : (int) the step for gradient descent according to armijo's rule\n",
    "    \"\"\"\n",
    "    k = 0\n",
    "    w = 10e-4\n",
    "    tau = 0.05\n",
    "    alpha = 1\n",
    "\n",
    "    grad_f = grad_f_t(Q,p,A,b,x,t)\n",
    "    x_new = x + alpha*dir\n",
    "\n",
    "    grad_f_new = grad_f_t(Q,p,A,b,x_new,t)\n",
    "    diff = np.linalg.norm(grad_f_new)**2 - np.linalg.norm(grad_f)**2*(1 - w*alpha)\n",
    "    while (diff > 0):\n",
    "        k += 1\n",
    "        alpha *= tau\n",
    "        x_new = x + alpha*dir \n",
    "        grad_f_new = grad_f_t(Q,p,A,b,x_new,t) #With new alpha\n",
    "        diff = np.linalg.norm(grad_f_new)**2 - np.linalg.norm(grad_f)**(1 - w*alpha)\n",
    "       # print('dir = ', dir, 'x = ', x, 'alpha = ', alpha ,'diff = ', diff )\n",
    "    return alpha"
   ]
  },
  {
   "cell_type": "markdown",
   "metadata": {},
   "source": [
    "Check whether the solution position is feasible i.e if\n",
    "$$\n",
    "Fx \\leq b\n",
    "$$\n",
    "or more precisely if $\\forall i \\in \\{1,2d\\}$\n",
    "$$\n",
    "f_i^Tx \\leq \\lambda\n",
    "$$\n",
    "where $f_i$ is the $i^{th}$ row of F and F is defined as \n",
    "$$\n",
    "F = \\large \\begin{pmatrix}\n",
    "    X^T \\\\\n",
    "    -X^T \\\\\n",
    "\\end{pmatrix}\n",
    "$$"
   ]
  },
  {
   "cell_type": "code",
   "execution_count": 11,
   "metadata": {},
   "outputs": [
    {
     "data": {
      "text/plain": [
       "True"
      ]
     },
     "execution_count": 11,
     "metadata": {},
     "output_type": "execute_result"
    }
   ],
   "source": [
    "def test_symetry(M):\n",
    "    for i in range(n):\n",
    "        for j in range(n):\n",
    "            if M[i,j] != M[j,i]:\n",
    "                return False\n",
    "    return True\n",
    "\n",
    "def is_pos_def(x):\n",
    "    return np.all(np.linalg.eigvals(x) > 0)\n",
    "\n",
    "x = np.array([np.random.rand() for i in range(10)])\n",
    "hess = hess_f_t(Q,p,F,b,x,t)\n",
    "is_pos_def(hess)"
   ]
  },
  {
   "cell_type": "markdown",
   "metadata": {},
   "source": [
    "### Centering step\n",
    "\n",
    "This is the crucial step where we solve the minimization problem via Newton's method for a given t"
   ]
  },
  {
   "cell_type": "code",
   "execution_count": 12,
   "metadata": {},
   "outputs": [],
   "source": [
    "def centering_step(Q,p,A,b,t,v0,eps):\n",
    "    \"\"\"\n",
    "    It computes the Newton method to solve the problem \\grad f_t(x) = 0\n",
    "\n",
    "    Args : \n",
    "        Q: (array) positive definite matrix, sized [n,n]\n",
    "        p: (array), sized [n,]\n",
    "        F: (array), matrix of the inequality constraint Fx <= h and appearing in the barrier function, sized [d,n]\n",
    "        t: (int) parameter of the barrier method\n",
    "        v0: (array) initialisation point, in the strictly feasible domain, sized [n,]\n",
    "        eps: (int) accepted error/target precision\n",
    "\n",
    "    Returns:\n",
    "        The list of iterates x until convergence at precision epsilon\n",
    "    \"\"\"\n",
    "    V = [v0]\n",
    "    x = v0\n",
    "    grad_f = grad_f_t(Q,p,A,b,x,t)\n",
    "    hess_f = hess_f_t(Q,p,A,b,x,t)\n",
    "    dir = - np.linalg.solve(hess_f, grad_f)\n",
    "    criteria = np.dot(hess_f, dir)\n",
    "    criteria = np.dot(dir,criteria)\n",
    "    n_iter = 0\n",
    "\n",
    "    while (criteria > 2*eps): #criteria to stop\n",
    "        #alpha = backtracking_with_gradient(Q,p,A,b,x,t, dir)\n",
    "        alpha = backtracking(Q,p,A,b,x,t, dir)\n",
    "        x = x + alpha*dir\n",
    "\n",
    "        #computation of derivatives\n",
    "        grad_f = grad_f_t(Q,p,A,b,x,t)\n",
    "        hess_f = hess_f_t(Q,p,A,b,x,t)\n",
    "\n",
    "        #computation of criteria\n",
    "        criteria = np.dot(hess_f, dir)\n",
    "        criteria = np.dot(dir,criteria)\n",
    "\n",
    "        #new direction\n",
    "        dir = - np.linalg.solve(hess_f, grad_f)\n",
    "        V += [x]\n",
    "\n",
    "        n_iter += 1 #every passage in the loop is a Newton iteration\n",
    "    return V, n_iter"
   ]
  },
  {
   "cell_type": "markdown",
   "metadata": {},
   "source": [
    "### Barrier method\n",
    "\n",
    "We solve here the centering problem to draw a central path in the strictly feasible domain $\\mathcal{D} = \\{x \\in \\mathbf{R}^n | Fx < \\lambda e_{2d}\\}$. An obvious point here is $v_0 = O_{n}$, since $\\lambda > 0$"
   ]
  },
  {
   "cell_type": "code",
   "execution_count": 13,
   "metadata": {},
   "outputs": [],
   "source": [
    "def barr_method(Q,p,A,b,v0,eps) :\n",
    "    X = [[] for i in range(5)]\n",
    "    N_iter = [[] for i in range(len(Mu))]\n",
    "    for i in range(len(Mu)):\n",
    "        t = 1\n",
    "        x = v0\n",
    "        while (2*d/t > eps):\n",
    "            V, n_iter = centering_step(Q,p,A,b,t,x,eps) #n_iter is the number of column of V\n",
    "            t *= Mu[i]\n",
    "            x = V[-1] #Principle of the central path : we start from the last solution computed previously\n",
    "            N_iter[i] += [n_iter]\n",
    "            X[i] += [x] #sequence of iteration for this t*mu\n",
    "    return X, N_iter\n",
    "v0 = np.zeros((n))\n",
    "X, N_iter = barr_method(Q,p,F,b,v0,eps)"
   ]
  },
  {
   "cell_type": "code",
   "execution_count": 14,
   "metadata": {},
   "outputs": [],
   "source": [
    "def sum(L): #Sum with the left neighbour\n",
    "    N = np.zeros(len(L))\n",
    "    N[0] = L[0]\n",
    "    for i in range(1,len(L)):\n",
    "        N[i] = N[i - 1] + L[i]\n",
    "    return N"
   ]
  },
  {
   "cell_type": "markdown",
   "metadata": {},
   "source": [
    "## Results"
   ]
  },
  {
   "cell_type": "markdown",
   "metadata": {},
   "source": [
    "### For classical backtracking and $\\epsilon = 10^{-8}$"
   ]
  },
  {
   "cell_type": "code",
   "execution_count": 18,
   "metadata": {},
   "outputs": [
    {
     "data": {
      "image/png": "[encoded data removed]",
      "text/plain": [
       "<Figure size 700x700 with 1 Axes>"
      ]
     },
     "metadata": {},
     "output_type": "display_data"
    }
   ],
   "source": [
    "for i in range(len(Mu)):\n",
    "    plt.figure(num=1,figsize=(7,7)) \n",
    "    n_iter = N_iter[i]\n",
    "    Newton_iter = sum(n_iter) #abscisse\n",
    "    V = X[i] #give me the sequence for this mu\n",
    "    f = [f_0(Q,p,V[j]) for j in range(len(V))] #I evaluate at every sequence the objective function\n",
    "    gap = [f_0(Q,p,[0 for i in range(n)]) - f[-1]] + [p - f[-1] for p in f[:-1]] #This is the gap at every iteration\n",
    "    plt.step(Newton_iter, gap, label='mu = '+str(Mu[i]))\n",
    "    plt.figure(1)\n",
    "    plt.legend(loc = 'upper right')\n",
    "    plt.semilogy()\n",
    "    plt.xlabel('Number of iterations of the Newton method')\n",
    "    plt.ylabel('$f(v_i)-f^*$')\n",
    "    plt.rc('grid', linestyle=\"--\", color='black',alpha = 0.3)\n",
    "    plt.grid(True)"
   ]
  },
  {
   "cell_type": "markdown",
   "metadata": {},
   "source": [
    "### With gradient-based backtracking and $\\epsilon = 10^{-8}$"
   ]
  },
  {
   "cell_type": "code",
   "execution_count": 19,
   "metadata": {},
   "outputs": [
    {
     "data": {
      "image/png": "[encoded data removed]",
      "text/plain": [
       "<Figure size 700x700 with 1 Axes>"
      ]
     },
     "metadata": {},
     "output_type": "display_data"
    }
   ],
   "source": [
    "for i in range(len(Mu)):\n",
    "    plt.figure(num=1,figsize=(7,7)) \n",
    "    n_iter = N_iter[i]\n",
    "    Newton_iter = sum(n_iter) #abscisse\n",
    "    V = X[i] #give me the sequence for this mu\n",
    "    f = [f_0(Q,p,V[j]) for j in range(len(V))] #I evaluate at every sequence the objective function\n",
    "    gap = [f_0(Q,p,[0 for i in range(n)]) - f[-1]] + [p - f[-1] for p in f[:-1]] #This is the gap at every iteration\n",
    "    plt.step(Newton_iter, gap, label='mu = '+str(Mu[i]))\n",
    "    plt.figure(1)\n",
    "    plt.legend(loc = 'upper right')\n",
    "    plt.semilogy()\n",
    "    plt.xlabel('Number of iterations of the Newton method')\n",
    "    plt.ylabel('$f(v_i)-f^*$')\n",
    "    plt.rc('grid', linestyle=\"--\", color='black',alpha = 0.3)\n",
    "    plt.grid(True)"
   ]
  }
 ],
 "metadata": {
  "kernelspec": {
   "display_name": "base",
   "language": "python",
   "name": "python3"
  },
  "language_info": {
   "codemirror_mode": {
    "name": "ipython",
    "version": 3
   },
   "file_extension": ".py",
   "mimetype": "text/x-python",
   "name": "python",
   "nbconvert_exporter": "python",
   "pygments_lexer": "ipython3",
   "version": "3.11.7"
  }
 },
 "nbformat": 4,
 "nbformat_minor": 2
}
