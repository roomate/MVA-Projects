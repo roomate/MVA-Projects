{
 "cells": [
  {
   "cell_type": "markdown",
   "metadata": {
    "cell_ktag": "bRSFwvT1/2zX",
    "id": "nlCNZsWlOSfP"
   },
   "source": [
    "# Practical Session on Graph Neural Networks\n",
    "\n",
    "**by Matthieu Nastorg and Cyriaque Rousselot**"
   ]
  },
  {
   "cell_type": "markdown",
   "metadata": {
    "cell_ktag": "bRSFwvT1/2zX",
    "id": "p0RMEfCaEehI"
   },
   "source": [
    "## **PART 1 : CODING** (8/20)"
   ]
  },
  {
   "cell_type": "markdown",
   "metadata": {
    "cell_ktag": "bRSFwvT1/2zX",
    "id": "v5Lp4PasOby4"
   },
   "source": [
    "### Install Pytorch Geometric\n",
    "\n",
    "To handle graph data, we use the library Pytorch Geometric : https://pytorch-geometric.readthedocs.io/en/latest/\n",
    "\n",
    "*   If you use _Google Colab_, simply run the following cell to install Pytorch Geometric (**advised**).\n",
    "*   If you plan using your _own environment_, follow the documentation to install Pytorch Geometric : https://pytorch-geometric.readthedocs.io/en/latest/install/installation.html and skip the following cell."
   ]
  },
  {
   "cell_type": "code",
   "execution_count": 2,
   "metadata": {
    "cell_ktag": "bRSFwvT1/2zX",
    "colab": {
     "base_uri": "https://localhost:8080/",
     "height": 1000
    },
    "id": "buW3eZmrj1N2",
    "outputId": "825f2cc5-6c42-40b6-c811-de8e83815d1a"
   },
   "outputs": [],
   "source": [
    "########## INSTALL TORCH GEOMETRIC ##################\n",
    "# https://pytorch-geometric.readthedocs.io/en/latest/\n",
    "#####################################################\n",
    "import torch\n",
    "\n",
    "\n",
    "def format_pytorch_version(version):\n",
    "    return version.split(\"+\")[0]\n",
    "\n",
    "\n",
    "TORCH_version = torch.__version__\n",
    "TORCH = format_pytorch_version(TORCH_version)\n",
    "\n",
    "def format_cuda_version(version):\n",
    "    return \"cu\" + version.replace(\".\", \"\")\n",
    "\n",
    "\n",
    "CUDA_version = torch.version.cuda\n",
    "CUDA = format_cuda_version(CUDA_version)\n",
    "\n",
    "# !pip install torch-scatter     -f https://pytorch-geometric.com/whl/torch-{TORCH}+{CUDA}.html\n",
    "# !pip install torch-sparse      -f https://pytorch-geometric.com/whl/torch-{TORCH}+{CUDA}.html\n",
    "# !pip install torch-cluster     -f https://pytorch-geometric.com/whl/torch-{TORCH}+{CUDA}.html\n",
    "# !pip install torch-spline-conv -f https://pytorch-geometric.com/whl/torch-{TORCH}+{CUDA}.html\n",
    "# !pip install torch-geometric"
   ]
  },
  {
   "cell_type": "markdown",
   "metadata": {
    "cell_ktag": "bRSFwvT1/2zX",
    "id": "04JPKXjDclTj"
   },
   "source": [
    "### Import required packages\n",
    "\n",
    "Run the following cell to import all required packages. This cell **must not** be modified.\n",
    "\n",
    "To significantly accelerate your training, it is advised to use GPU. Using Google Colab, you need to activate it : \n",
    "\n",
    "*   Edit --> Notebook Setting --> Hardware accelerator --> GPU"
   ]
  },
  {
   "cell_type": "code",
   "execution_count": 3,
   "metadata": {
    "cell_ktag": "bRSFwvT1/2zX",
    "id": "qXGDmBMYgA_x"
   },
   "outputs": [],
   "source": [
    "#####################################################\n",
    "################## PACKAGES #########################\n",
    "#####################################################\n",
    "import numpy as np\n",
    "import matplotlib.pyplot as plt\n",
    "\n",
    "import torch.nn as nn\n",
    "import torch_geometric.nn as graphnn\n",
    "from sklearn.metrics import f1_score\n",
    "from torch_geometric.datasets import PPI\n",
    "from torch_geometric.loader import DataLoader"
   ]
  },
  {
   "cell_type": "markdown",
   "metadata": {
    "cell_ktag": "bRSFwvT1/2zX",
    "id": "3UvCNG8FgdS-"
   },
   "source": [
    "### Dataset\n",
    "\n",
    "We use the Protein-Protein Interaction (PPI) network dataset which includes:\n",
    "- 20 graphs for training \n",
    "- 2 graphs for validation\n",
    "- 2 graphs for testing\n",
    "\n",
    "One graph of the PPI dataset has on average 2372 nodes. Each node:\n",
    "- 50 features : positional gene sets / motif gene / immunological signatures ...\n",
    "- 121 (binary) labels : gene ontology sets (way to classify gene products like proteins).\n",
    "\n",
    "**This problem aims to predict, for a given PPI graph, the correct node's labels**.\n",
    "\n",
    "**It is a node (multi-level) classification task** (trained using supervised learning). \n",
    "\n",
    "For your curiosity, more details information on the dataset and some applications:\n",
    "- https://cs.stanford.edu/~jure/pubs/pathways-psb18.pdf\n",
    "- https://arxiv.org/abs/1707.04638\n",
    "\n",
    "To understand how a graph data is implemented in Pytorch Geometric, refer to : https://pytorch-geometric.readthedocs.io/en/latest/get_started/introduction.html\n"
   ]
  },
  {
   "cell_type": "code",
   "execution_count": 4,
   "metadata": {
    "cell_ktag": "bRSFwvT1/2zX",
    "colab": {
     "base_uri": "https://localhost:8080/"
    },
    "id": "IwdNhvzVNkZB",
    "outputId": "64b6d3c5-43b2-420b-e5ce-0204fa1dd6be"
   },
   "outputs": [
    {
     "name": "stdout",
     "output_type": "stream",
     "text": [
      "Number of samples in the train dataset:  20\n",
      "Number of samples in the val dataset:  2\n",
      "Number of samples in the test dataset:  2\n",
      "Output of one sample from the train dataset:  Data(x=[1767, 50], edge_index=[2, 32318], y=[1767, 121])\n",
      "Number of nodes in the sample from the train dataset:  1767\n",
      "Edge_index :\n",
      "tensor([[   0,    0,    0,  ..., 1744, 1745, 1749],\n",
      "        [ 372, 1101,  766,  ..., 1745, 1744, 1739]])\n",
      "Number of features per node:  50\n",
      "Number of classes per node:  121\n"
     ]
    }
   ],
   "source": [
    "### LOAD DATASETS\n",
    "\n",
    "BATCH_SIZE = 2\n",
    "\n",
    "# Train Dataset\n",
    "train_dataset = PPI(root=\"\", split=\"train\")\n",
    "train_dataloader = DataLoader(train_dataset, batch_size=BATCH_SIZE)\n",
    "# Val Dataset\n",
    "val_dataset = PPI(root=\"\", split=\"val\")\n",
    "val_dataloader = DataLoader(val_dataset, batch_size=BATCH_SIZE)\n",
    "# Test Dataset\n",
    "test_dataset = PPI(root=\"\", split=\"test\")\n",
    "test_dataloader = DataLoader(test_dataset, batch_size=BATCH_SIZE)\n",
    "\n",
    "# Number of features and classes\n",
    "n_features, n_classes = train_dataset[0].x.shape[1], train_dataset[0].y.shape[1]\n",
    "\n",
    "print(\"Number of samples in the train dataset: \", len(train_dataset))\n",
    "print(\"Number of samples in the val dataset: \", len(test_dataset))\n",
    "print(\"Number of samples in the test dataset: \", len(test_dataset))\n",
    "print(\"Output of one sample from the train dataset: \", train_dataset[0])\n",
    "print(\"Number of nodes in the sample from the train dataset: \", len(train_dataset[0].x))\n",
    "print(\"Edge_index :\")\n",
    "print(train_dataset[0].edge_index)\n",
    "print(\"Number of features per node: \", n_features)\n",
    "print(\"Number of classes per node: \", n_classes)"
   ]
  },
  {
   "cell_type": "markdown",
   "metadata": {},
   "source": [
    "Each node is defined by 50 features."
   ]
  },
  {
   "cell_type": "markdown",
   "metadata": {
    "cell_ktag": "bRSFwvT1/2zX",
    "id": "hiCcn9qeO6Nm"
   },
   "source": [
    "### Define a basic Model"
   ]
  },
  {
   "cell_type": "code",
   "execution_count": 1,
   "metadata": {},
   "outputs": [
    {
     "data": {
      "text/plain": [
       "2.6236431962499998"
      ]
     },
     "execution_count": 1,
     "metadata": {},
     "output_type": "execute_result"
    }
   ],
   "source": [
    "12/10 + sum([(k/10)**11 for k in range(1,11)])"
   ]
  },
  {
   "cell_type": "markdown",
   "metadata": {
    "cell_ktag": "bRSFwvT1/2zX",
    "id": "8RjzEiJ-eVot"
   },
   "source": [
    "Here we define a very simple Graph Neural Network model which will be used as our baseline. This model consists of three graph convolutional layers (from https://arxiv.org/pdf/1609.02907.pdf). The first two layers computes 256 features, followed by an ELU activation function. The last layer is used for (multi-level) classification task, computing 121 features."
   ]
  },
  {
   "cell_type": "code",
   "execution_count": 5,
   "metadata": {
    "cell_ktag": "bRSFwvT1/2zX",
    "id": "2Km-GN1aMpd_"
   },
   "outputs": [],
   "source": [
    "#####################################################\n",
    "################## MODEL ############################\n",
    "#####################################################\n",
    "class BasicGraphModel(nn.Module):\n",
    "    def __init__(self, input_size, hidden_size, output_size):\n",
    "        super().__init__()\n",
    "\n",
    "        self.graphconv1 = graphnn.GCNConv(input_size, hidden_size)\n",
    "        self.graphconv2 = graphnn.GCNConv(hidden_size, hidden_size)\n",
    "        self.graphconv3 = graphnn.GCNConv(hidden_size, output_size)\n",
    "\n",
    "        self.elu = nn.ELU()\n",
    "\n",
    "    def forward(self, x, edge_index):\n",
    "        x = self.graphconv1(x, edge_index)\n",
    "        x = self.elu(x)\n",
    "        x = self.graphconv2(x, edge_index)\n",
    "        x = self.elu(x)\n",
    "        x = self.graphconv3(x, edge_index)\n",
    "        return x"
   ]
  },
  {
   "cell_type": "markdown",
   "metadata": {
    "cell_ktag": "bRSFwvT1/2zX",
    "id": "6ekk0TrOktOB"
   },
   "source": [
    "Next we construct the function to train the model."
   ]
  },
  {
   "cell_type": "code",
   "execution_count": 6,
   "metadata": {
    "cell_ktag": "bRSFwvT1/2zX",
    "id": "m4lneoadMxqy"
   },
   "outputs": [],
   "source": [
    "#####################################################\n",
    "############## TRAIN FUNCTION #######################\n",
    "#####################################################\n",
    "def train(\n",
    "    model, loss_fcn, device, optimizer, max_epochs, train_dataloader, val_dataloader\n",
    "):\n",
    "\n",
    "    epoch_list = []\n",
    "    scores_list = []\n",
    "\n",
    "    # loop over epochs\n",
    "    for epoch in range(max_epochs):\n",
    "        model.train()\n",
    "        losses = []\n",
    "        # loop over batches\n",
    "        for i, train_batch in enumerate(train_dataloader):\n",
    "            optimizer.zero_grad()\n",
    "            train_batch_device = train_batch.to(device)\n",
    "            # logits is the output of the model\n",
    "            logits = model(train_batch_device.x, train_batch_device.edge_index)\n",
    "            # compute the loss\n",
    "            loss = loss_fcn(logits, train_batch_device.y)\n",
    "            # optimizer step\n",
    "            loss.backward()\n",
    "            optimizer.step()\n",
    "            losses.append(loss.item())\n",
    "        loss_data = np.array(losses).mean()\n",
    "        print(\"Epoch {:05d} | Loss: {:.4f}\".format(epoch + 1, loss_data))\n",
    "\n",
    "        if epoch % 5 == 0:\n",
    "            # evaluate the model on the validation set\n",
    "            # computes the f1-score (see next function)\n",
    "            score = evaluate(model, loss_fcn, device, val_dataloader)\n",
    "            print(\"F1-Score: {:.4f}\".format(score))\n",
    "            scores_list.append(score)\n",
    "            epoch_list.append(epoch)\n",
    "\n",
    "    return epoch_list, scores_list"
   ]
  },
  {
   "cell_type": "markdown",
   "metadata": {
    "cell_ktag": "bRSFwvT1/2zX",
    "id": "PTd9OqaelLni"
   },
   "source": [
    "Next function is designed to evaluate the performance of the model, computing the F1-Score"
   ]
  },
  {
   "cell_type": "code",
   "execution_count": 7,
   "metadata": {
    "cell_ktag": "bRSFwvT1/2zX",
    "id": "PajZzg5zM7V1"
   },
   "outputs": [],
   "source": [
    "#####################################################\n",
    "############### TEST FUNCTION #######################\n",
    "#####################################################\n",
    "def evaluate(model, loss_fcn, device, dataloader):\n",
    "    score_list_batch = []\n",
    "\n",
    "    model.eval()\n",
    "    for i, batch in enumerate(dataloader):\n",
    "        batch = batch.to(device) #Convert to device\n",
    "        output = model(batch.x, batch.edge_index) #Forward pass\n",
    "        loss_test = loss_fcn(output, batch.y) #compute the loss\n",
    "        predict = np.where(output.detach().cpu().numpy() >= 0, 1, 0) #Classification prediction\n",
    "        score = f1_score(batch.y.cpu().numpy(), predict, average=\"micro\") #\n",
    "        score_list_batch.append(score)\n",
    "\n",
    "    return np.array(score_list_batch).mean()"
   ]
  },
  {
   "cell_type": "markdown",
   "metadata": {
    "cell_ktag": "bRSFwvT1/2zX",
    "id": "EilgopwMlpsu"
   },
   "source": [
    "Let's train this model !"
   ]
  },
  {
   "cell_type": "code",
   "execution_count": 8,
   "metadata": {
    "cell_ktag": "bRSFwvT1/2zX",
    "colab": {
     "base_uri": "https://localhost:8080/"
    },
    "id": "Xkqo7e0gNACE",
    "outputId": "5f2ab59d-7841-4d79-da1b-2d7b4ed963c2"
   },
   "outputs": [
    {
     "name": "stdout",
     "output_type": "stream",
     "text": [
      "\n",
      "Device:  cuda\n",
      "Epoch 00001 | Loss: 0.6377\n",
      "F1-Score: 0.4560\n",
      "Epoch 00002 | Loss: 0.5810\n",
      "Epoch 00003 | Loss: 0.5631\n",
      "Epoch 00004 | Loss: 0.5556\n",
      "Epoch 00005 | Loss: 0.5510\n",
      "Epoch 00006 | Loss: 0.5460\n",
      "F1-Score: 0.4964\n",
      "Epoch 00007 | Loss: 0.5417\n",
      "Epoch 00008 | Loss: 0.5379\n",
      "Epoch 00009 | Loss: 0.5344\n",
      "Epoch 00010 | Loss: 0.5317\n",
      "Epoch 00011 | Loss: 0.5292\n",
      "F1-Score: 0.5249\n",
      "Epoch 00012 | Loss: 0.5265\n",
      "Epoch 00013 | Loss: 0.5238\n",
      "Epoch 00014 | Loss: 0.5214\n",
      "Epoch 00015 | Loss: 0.5192\n",
      "Epoch 00016 | Loss: 0.5171\n",
      "F1-Score: 0.5354\n",
      "Epoch 00017 | Loss: 0.5151\n",
      "Epoch 00018 | Loss: 0.5132\n",
      "Epoch 00019 | Loss: 0.5114\n",
      "Epoch 00020 | Loss: 0.5095\n",
      "Epoch 00021 | Loss: 0.5075\n",
      "F1-Score: 0.5075\n",
      "Epoch 00022 | Loss: 0.5045\n",
      "Epoch 00023 | Loss: 0.5028\n",
      "Epoch 00024 | Loss: 0.5007\n",
      "Epoch 00025 | Loss: 0.4986\n",
      "Epoch 00026 | Loss: 0.4969\n",
      "F1-Score: 0.5352\n",
      "Epoch 00027 | Loss: 0.4948\n",
      "Epoch 00028 | Loss: 0.4927\n",
      "Epoch 00029 | Loss: 0.4907\n",
      "Epoch 00030 | Loss: 0.4895\n",
      "Epoch 00031 | Loss: 0.4881\n",
      "F1-Score: 0.5437\n",
      "Epoch 00032 | Loss: 0.4869\n",
      "Epoch 00033 | Loss: 0.4858\n",
      "Epoch 00034 | Loss: 0.4842\n",
      "Epoch 00035 | Loss: 0.4829\n",
      "Epoch 00036 | Loss: 0.4812\n",
      "F1-Score: 0.5463\n",
      "Epoch 00037 | Loss: 0.4794\n",
      "Epoch 00038 | Loss: 0.4773\n",
      "Epoch 00039 | Loss: 0.4755\n",
      "Epoch 00040 | Loss: 0.4738\n",
      "Epoch 00041 | Loss: 0.4718\n",
      "F1-Score: 0.5608\n",
      "Epoch 00042 | Loss: 0.4707\n",
      "Epoch 00043 | Loss: 0.4694\n",
      "Epoch 00044 | Loss: 0.4676\n",
      "Epoch 00045 | Loss: 0.4662\n",
      "Epoch 00046 | Loss: 0.4650\n",
      "F1-Score: 0.5665\n",
      "Epoch 00047 | Loss: 0.4640\n",
      "Epoch 00048 | Loss: 0.4631\n",
      "Epoch 00049 | Loss: 0.4623\n",
      "Epoch 00050 | Loss: 0.4618\n",
      "Epoch 00051 | Loss: 0.4611\n",
      "F1-Score: 0.5869\n",
      "Epoch 00052 | Loss: 0.4600\n",
      "Epoch 00053 | Loss: 0.4599\n",
      "Epoch 00054 | Loss: 0.4594\n",
      "Epoch 00055 | Loss: 0.4593\n",
      "Epoch 00056 | Loss: 0.4587\n",
      "F1-Score: 0.5780\n",
      "Epoch 00057 | Loss: 0.4580\n",
      "Epoch 00058 | Loss: 0.4562\n",
      "Epoch 00059 | Loss: 0.4545\n",
      "Epoch 00060 | Loss: 0.4533\n",
      "Epoch 00061 | Loss: 0.4519\n",
      "F1-Score: 0.5856\n",
      "Epoch 00062 | Loss: 0.4510\n",
      "Epoch 00063 | Loss: 0.4494\n",
      "Epoch 00064 | Loss: 0.4493\n",
      "Epoch 00065 | Loss: 0.4487\n",
      "Epoch 00066 | Loss: 0.4478\n",
      "F1-Score: 0.5905\n",
      "Epoch 00067 | Loss: 0.4471\n",
      "Epoch 00068 | Loss: 0.4482\n",
      "Epoch 00069 | Loss: 0.4465\n",
      "Epoch 00070 | Loss: 0.4467\n",
      "Epoch 00071 | Loss: 0.4453\n",
      "F1-Score: 0.5983\n",
      "Epoch 00072 | Loss: 0.4439\n",
      "Epoch 00073 | Loss: 0.4433\n",
      "Epoch 00074 | Loss: 0.4425\n",
      "Epoch 00075 | Loss: 0.4417\n",
      "Epoch 00076 | Loss: 0.4408\n",
      "F1-Score: 0.6034\n",
      "Epoch 00077 | Loss: 0.4411\n",
      "Epoch 00078 | Loss: 0.4398\n",
      "Epoch 00079 | Loss: 0.4399\n",
      "Epoch 00080 | Loss: 0.4396\n",
      "Epoch 00081 | Loss: 0.4412\n",
      "F1-Score: 0.5948\n",
      "Epoch 00082 | Loss: 0.4425\n",
      "Epoch 00083 | Loss: 0.4421\n",
      "Epoch 00084 | Loss: 0.4410\n",
      "Epoch 00085 | Loss: 0.4391\n",
      "Epoch 00086 | Loss: 0.4379\n",
      "F1-Score: 0.6204\n",
      "Epoch 00087 | Loss: 0.4378\n",
      "Epoch 00088 | Loss: 0.4357\n",
      "Epoch 00089 | Loss: 0.4352\n",
      "Epoch 00090 | Loss: 0.4340\n",
      "Epoch 00091 | Loss: 0.4325\n",
      "F1-Score: 0.5956\n",
      "Epoch 00092 | Loss: 0.4332\n",
      "Epoch 00093 | Loss: 0.4322\n",
      "Epoch 00094 | Loss: 0.4323\n",
      "Epoch 00095 | Loss: 0.4352\n",
      "Epoch 00096 | Loss: 0.4359\n",
      "F1-Score: 0.5924\n",
      "Epoch 00097 | Loss: 0.4345\n",
      "Epoch 00098 | Loss: 0.4355\n",
      "Epoch 00099 | Loss: 0.4363\n",
      "Epoch 00100 | Loss: 0.4366\n",
      "Epoch 00101 | Loss: 0.4351\n",
      "F1-Score: 0.5427\n",
      "Epoch 00102 | Loss: 0.4332\n",
      "Epoch 00103 | Loss: 0.4334\n",
      "Epoch 00104 | Loss: 0.4341\n",
      "Epoch 00105 | Loss: 0.4378\n",
      "Epoch 00106 | Loss: 0.4421\n",
      "F1-Score: 0.6025\n",
      "Epoch 00107 | Loss: 0.4417\n",
      "Epoch 00108 | Loss: 0.4394\n",
      "Epoch 00109 | Loss: 0.4356\n",
      "Epoch 00110 | Loss: 0.4320\n",
      "Epoch 00111 | Loss: 0.4304\n",
      "F1-Score: 0.5975\n",
      "Epoch 00112 | Loss: 0.4289\n",
      "Epoch 00113 | Loss: 0.4278\n",
      "Epoch 00114 | Loss: 0.4271\n",
      "Epoch 00115 | Loss: 0.4293\n",
      "Epoch 00116 | Loss: 0.4273\n",
      "F1-Score: 0.6190\n",
      "Epoch 00117 | Loss: 0.4269\n",
      "Epoch 00118 | Loss: 0.4257\n",
      "Epoch 00119 | Loss: 0.4242\n",
      "Epoch 00120 | Loss: 0.4236\n",
      "Epoch 00121 | Loss: 0.4219\n",
      "F1-Score: 0.6025\n",
      "Epoch 00122 | Loss: 0.4213\n",
      "Epoch 00123 | Loss: 0.4216\n",
      "Epoch 00124 | Loss: 0.4229\n",
      "Epoch 00125 | Loss: 0.4224\n",
      "Epoch 00126 | Loss: 0.4224\n",
      "F1-Score: 0.6387\n",
      "Epoch 00127 | Loss: 0.4210\n",
      "Epoch 00128 | Loss: 0.4195\n",
      "Epoch 00129 | Loss: 0.4204\n",
      "Epoch 00130 | Loss: 0.4228\n",
      "Epoch 00131 | Loss: 0.4222\n",
      "F1-Score: 0.5835\n",
      "Epoch 00132 | Loss: 0.4214\n",
      "Epoch 00133 | Loss: 0.4228\n",
      "Epoch 00134 | Loss: 0.4245\n",
      "Epoch 00135 | Loss: 0.4233\n",
      "Epoch 00136 | Loss: 0.4208\n",
      "F1-Score: 0.6310\n",
      "Epoch 00137 | Loss: 0.4202\n",
      "Epoch 00138 | Loss: 0.4198\n",
      "Epoch 00139 | Loss: 0.4202\n",
      "Epoch 00140 | Loss: 0.4195\n",
      "Epoch 00141 | Loss: 0.4211\n",
      "F1-Score: 0.6318\n",
      "Epoch 00142 | Loss: 0.4200\n",
      "Epoch 00143 | Loss: 0.4195\n",
      "Epoch 00144 | Loss: 0.4181\n",
      "Epoch 00145 | Loss: 0.4188\n",
      "Epoch 00146 | Loss: 0.4168\n",
      "F1-Score: 0.6073\n",
      "Epoch 00147 | Loss: 0.4164\n",
      "Epoch 00148 | Loss: 0.4163\n",
      "Epoch 00149 | Loss: 0.4148\n",
      "Epoch 00150 | Loss: 0.4145\n",
      "Epoch 00151 | Loss: 0.4138\n",
      "F1-Score: 0.6236\n",
      "Epoch 00152 | Loss: 0.4133\n",
      "Epoch 00153 | Loss: 0.4121\n",
      "Epoch 00154 | Loss: 0.4110\n",
      "Epoch 00155 | Loss: 0.4111\n",
      "Epoch 00156 | Loss: 0.4102\n",
      "F1-Score: 0.6222\n",
      "Epoch 00157 | Loss: 0.4091\n",
      "Epoch 00158 | Loss: 0.4098\n",
      "Epoch 00159 | Loss: 0.4087\n",
      "Epoch 00160 | Loss: 0.4082\n",
      "Epoch 00161 | Loss: 0.4074\n",
      "F1-Score: 0.6229\n",
      "Epoch 00162 | Loss: 0.4074\n",
      "Epoch 00163 | Loss: 0.4068\n",
      "Epoch 00164 | Loss: 0.4074\n",
      "Epoch 00165 | Loss: 0.4081\n",
      "Epoch 00166 | Loss: 0.4078\n",
      "F1-Score: 0.6304\n",
      "Epoch 00167 | Loss: 0.4074\n",
      "Epoch 00168 | Loss: 0.4069\n",
      "Epoch 00169 | Loss: 0.4061\n",
      "Epoch 00170 | Loss: 0.4052\n",
      "Epoch 00171 | Loss: 0.4052\n",
      "F1-Score: 0.6409\n",
      "Epoch 00172 | Loss: 0.4065\n",
      "Epoch 00173 | Loss: 0.4062\n",
      "Epoch 00174 | Loss: 0.4061\n",
      "Epoch 00175 | Loss: 0.4053\n",
      "Epoch 00176 | Loss: 0.4058\n",
      "F1-Score: 0.6476\n",
      "Epoch 00177 | Loss: 0.4053\n",
      "Epoch 00178 | Loss: 0.4069\n",
      "Epoch 00179 | Loss: 0.4074\n",
      "Epoch 00180 | Loss: 0.4104\n",
      "Epoch 00181 | Loss: 0.4113\n",
      "F1-Score: 0.6389\n",
      "Epoch 00182 | Loss: 0.4159\n",
      "Epoch 00183 | Loss: 0.4202\n",
      "Epoch 00184 | Loss: 0.4239\n",
      "Epoch 00185 | Loss: 0.4241\n",
      "Epoch 00186 | Loss: 0.4189\n",
      "F1-Score: 0.6124\n",
      "Epoch 00187 | Loss: 0.4206\n",
      "Epoch 00188 | Loss: 0.4173\n",
      "Epoch 00189 | Loss: 0.4126\n",
      "Epoch 00190 | Loss: 0.4081\n",
      "Epoch 00191 | Loss: 0.4099\n",
      "F1-Score: 0.6295\n",
      "Epoch 00192 | Loss: 0.4129\n",
      "Epoch 00193 | Loss: 0.4109\n",
      "Epoch 00194 | Loss: 0.4087\n",
      "Epoch 00195 | Loss: 0.4077\n",
      "Epoch 00196 | Loss: 0.4061\n",
      "F1-Score: 0.6513\n",
      "Epoch 00197 | Loss: 0.4048\n",
      "Epoch 00198 | Loss: 0.4043\n",
      "Epoch 00199 | Loss: 0.4056\n",
      "Epoch 00200 | Loss: 0.4040\n"
     ]
    }
   ],
   "source": [
    "### DEVICE GPU OR CPU : will select GPU if available\n",
    "device = torch.device(\"cuda\" if torch.cuda.is_available() else \"cpu\")\n",
    "print(\"\\nDevice: \", device)\n",
    "\n",
    "### Max number of epochs\n",
    "max_epochs = 200\n",
    "\n",
    "### DEFINE THE MODEL\n",
    "basic_model = BasicGraphModel(\n",
    "    input_size=n_features, hidden_size=256, output_size=n_classes\n",
    ").to(device)\n",
    "\n",
    "### DEFINE LOSS FUNCTION\n",
    "loss_fcn = nn.BCEWithLogitsLoss()\n",
    "\n",
    "### DEFINE OPTIMIZER\n",
    "optimizer = torch.optim.Adam(basic_model.parameters(), lr=0.005)\n",
    "\n",
    "### TRAIN THE MODEL\n",
    "epoch_list, basic_model_scores = train(\n",
    "    basic_model,\n",
    "    loss_fcn,\n",
    "    device,\n",
    "    optimizer,\n",
    "    max_epochs,\n",
    "    train_dataloader,\n",
    "    val_dataloader,\n",
    ")"
   ]
  },
  {
   "cell_type": "markdown",
   "metadata": {
    "cell_ktag": "bRSFwvT1/2zX",
    "id": "2sGc5g7Xmap2"
   },
   "source": [
    "Let's evaluate the performance of this basic model"
   ]
  },
  {
   "cell_type": "code",
   "execution_count": 9,
   "metadata": {
    "cell_ktag": "bRSFwvT1/2zX",
    "colab": {
     "base_uri": "https://localhost:8080/",
     "height": 354
    },
    "id": "ztfbbg2TNP7F",
    "outputId": "06c3c0c7-2ceb-4cee-a4d7-a654fa127a57"
   },
   "outputs": [
    {
     "name": "stdout",
     "output_type": "stream",
     "text": [
      "Basic Model : F1-Score on the test set: 0.6585\n"
     ]
    },
    {
     "data": {
      "image/png": "[encoded data removed]",
      "text/plain": [
       "<Figure size 1000x500 with 1 Axes>"
      ]
     },
     "metadata": {},
     "output_type": "display_data"
    }
   ],
   "source": [
    "### F1-SCORE ON TEST DATASET\n",
    "score_test = evaluate(basic_model, loss_fcn, device, test_dataloader)\n",
    "print(\"Basic Model : F1-Score on the test set: {:.4f}\".format(score_test))\n",
    "\n",
    "\n",
    "### PLOT EVOLUTION OF F1-SCORE W.R.T EPOCHS\n",
    "def plot_f1_score(epoch_list, scores):\n",
    "    plt.figure(figsize=[10, 5])\n",
    "    plt.plot(epoch_list, scores)\n",
    "    plt.title(\"Evolution of F1S-Score w.r.t epochs\")\n",
    "    plt.ylim([0.0, 1.0])\n",
    "    plt.show()\n",
    "\n",
    "\n",
    "plot_f1_score(epoch_list, basic_model_scores)"
   ]
  },
  {
   "cell_type": "markdown",
   "metadata": {},
   "source": [
    "\\begin{array}{ll}\n",
    "      0 & x\\leq a \\\\\n",
    "      \\frac{x-a}{b-a} & a\\leq x\\leq b \\\\\n",
    "      \\frac{c-x}{c-b} & b\\leq x\\leq c \\\\\n",
    "      1 & c\\leq x \\\\\n",
    "\\end{array} \n"
   ]
  },
  {
   "cell_type": "markdown",
   "metadata": {
    "cell_ktag": "bRSFwvT1/2zX",
    "id": "TRVsy5vLnWm_"
   },
   "source": [
    "### Define a better model\n",
    "\n",
    "# Graph Convolutional Layer\n",
    "\n",
    "Define the adjacency matrix $A$ of a graph: \n",
    "$$\n",
    "A_{i,j} = \n",
    "\\left\\{\n",
    "\\begin{array}{lc}\n",
    "1 \\, \\text{if node i and j are adjacents} \\\\\n",
    "0 \\, \\text{else}\n",
    "\\end{array}\n",
    "\\right.\n",
    "$$\n",
    "and the degree matrix:\n",
    "$$\n",
    "D_{i,j} = \n",
    "\\left\\{\n",
    "\\begin{array}{lc}\n",
    "\\frac{1}{\\sqrt{d_{i,i}}}\\, \\text{if i=j} \\\\\n",
    "0 \\, \\text{else}\n",
    "\\end{array}\n",
    "\\right.\n",
    "$$\n",
    "where $d_{i,i}$ is the degree of node $i$. The set of node in the graph is noted $X \\in \\mathbb{R}^{N\\times D}$, with $N$ is the number of nodes and $D$ its set of features. \n",
    "Normalize the adjacency matrix $A$ via $\\tilde{A} = D^{-\\frac{1}{2}}(A + I)D^{-\\frac{1}{2}}$ and introduce a learnable weight matrix $W \\in \\mathbb{R}^{D \\times D^{'}}$, $\\textbf{common}$ to all nodes.  $D^{'}$ is the number of features in the latent space.\n",
    "The forward pass of the convolutional layer is: $f(X,A) = \\sigma(\\tilde{A}XW)$. There exists some variant of $\\tilde{A}$, depending the normalization factor' choice. Above, it is $\\frac{1}{\\sqrt{d_id_j}}$.\n",
    "\n",
    "\n",
    "# Graph Attentional Layer\n",
    "**HINT :** https://arxiv.org/pdf/1710.10903.pdf\n",
    "\n",
    "According to this article, to define a graph attention networks, we have to implement a self-attention like mechanism. It goes through by defining a weight matrix $W \\in \\mathbb{R}^{F \\times F'}$, where $F$ is the number of features of the nodes (they all have the same number of features), and $F'$ the size of the embedding. By multiplying every node's feature by the same weight matrix $W$, one built the matrix attention with the help of an additional parameter $a \\in \\mathbb{R}^{2F'}$:\n",
    "$$\n",
    "e_{i,j} = a^{T}(Wh_i||Wh_j),\n",
    "$$\n",
    "where for each node $i$, $j \\in \\mathcal{N}(i)$.\n",
    "We then apply an activation function with a soft-max normalization step:\n",
    "$$\n",
    "\\alpha_{i,j} = \\text{SoftMax}(\\sigma_b(e_{i,j})),\n",
    "$$\n",
    "where $||$ refers to the concatenation operator and the softmax is over all neighbour nodes $j \\in \\mathcal{N}(i)$. In this report, one will use $\\sigma_b(x) = \\text{LeakyReLU}(x) = \\text{max}(x,0) + \\beta\\min(0,x)$, with $\\beta = 0.02$.\n",
    "\n",
    "Once these coefficients are computed, we can start acting on this latent space.\n",
    "We will define for node $i$ its output $h_i^{'}$ through the neural network by:\n",
    "$$\n",
    "h'_i = \\sigma\\bigg(\\sum_{j\\in \\mathcal{N}_i}\\alpha_{i,j}Wh_j\\bigg),\n",
    "$$\n",
    "\n",
    "or its multi-head version, for all $k \\in \\{1, \\cdots K\\}$:\n",
    "$$\n",
    "h^{'}_i = \\overset{K}{\\underset{k = 1}{\\bigg|\\bigg|}}\\sigma\\bigg(\\sum_{j\\in \\mathcal{N}_i}^k\\alpha_{i,j}W^kh_j\\bigg).\n",
    "$$\n",
    "Here, the concatenation operator breaks the permutation invariant property, so one rather employes an averaging operator:\n",
    "$$\n",
    "h^{'}_i = \\sigma\\bigg(\\frac{1}{K}\\sum_{k = 1}^K\\sum_{j\\in \\mathcal{N}_i}\\alpha_{i,j}^kW^kh_j\\bigg).\n",
    "$$\n",
    "\n",
    "I'll implement a single head attention mechanism.\n"
   ]
  },
  {
   "cell_type": "markdown",
   "metadata": {},
   "source": [
    "### Transductive learning"
   ]
  },
  {
   "cell_type": "code",
   "execution_count": 69,
   "metadata": {},
   "outputs": [],
   "source": [
    "# class GraphAttentionalLayer(nn.Module):\n",
    "#   def __init__(self, input_size, hidden_size, activation, K):\n",
    "#     super().__init__()\n",
    "\n",
    "#     self.input_size = input_size\n",
    "#     self.hidden_size = hidden_size\n",
    "#     self.K = K\n",
    "\n",
    "#     self.weight_K = torch.nn.ModuleList([torch.nn.Linear(input_size, hidden_size, bias = False, device=device) for _ in range(K)])\n",
    "#     self.a_K = torch.nn.ModuleList([torch.nn.Linear(2*hidden_size,1, bias = False, device=device) for _ in range(K)])\n",
    "#     self.activation = activation\n",
    "#     self.leaky = torch.nn.LeakyReLU(negative_slope=0.02)\n",
    "#     self.softmax = torch.nn.Softmax(dim=0)\n",
    "\n",
    "#   def forward(self, x, edge_index):\n",
    "#     out = torch.zeros((len(x), self.hidden_size), device=device)\n",
    "#     for id_x in range(len(x)):\n",
    "#       idx_neighbours = edge_index[1][edge_index[0] == id_x]\n",
    "#       for k in range(self.K):\n",
    "#         H1 = self.weight_K[k](x[id_x])[None,:]\n",
    "#         H1 = H1.expand(len(idx_neighbours), self.hidden_size).to(device) #To concatenate it with all its neighbours\n",
    "#         H2 = self.weight_K[k](x[idx_neighbours]).to(device)\n",
    "#         a = self.a_K[k]\n",
    "#         H = torch.concat((H1,H2), axis = 1).to(device)\n",
    "#         embedd = self.softmax(self.leaky(a(H))).flatten()\n",
    "#         out[id_x] += 1/self.K*embedd@H2\n",
    "\n",
    "#     return self.activation(out)\n",
    "\n",
    "class StudentModel(nn.Module):\n",
    "  def __init__(self, input_size, hidden_size, output_size):\n",
    "      \"\"\"Initialization of the neural network and definition of its parameters. \n",
    "         Args:\n",
    "            - input_size = Number of features per node\n",
    "            - hidden_size = Number of features in latent space\n",
    "            - output_size = Number of classes\n",
    "            - Initialization of layers' weights\n",
    "      \"\"\"\n",
    "      super().__init__()\n",
    "      \n",
    "      self.first_layer = graphnn.GATConv(input_size, hidden_size, dropout = .6, heads = 8)\n",
    "      self.activation1 = torch.nn.ELU()\n",
    "      self.second_layer = graphnn.GATConv(hidden_size*8, output_size, dropout = .6, heads = 1, concat=False)\n",
    "\n",
    "  def forward(self, x, edge_index):\n",
    "    out = self.first_layer(x, edge_index)\n",
    "    out = self.activation1(out)\n",
    "    \n",
    "    out = self.second_layer(out, edge_index)\n",
    "    return out"
   ]
  },
  {
   "cell_type": "markdown",
   "metadata": {
    "cell_ktag": "bRSFwvT1/2zX",
    "id": "4yGdQ2uxpCAX"
   },
   "source": [
    "Let's train your model !"
   ]
  },
  {
   "cell_type": "code",
   "execution_count": 70,
   "metadata": {
    "cell_ktag": "bRSFwvT1/2zX",
    "id": "6XIYzkYRo3AQ"
   },
   "outputs": [
    {
     "name": "stdout",
     "output_type": "stream",
     "text": [
      "Epoch 00001 | Loss: 0.6702\n",
      "F1-Score: 0.3956\n",
      "Epoch 00002 | Loss: 0.5975\n",
      "Epoch 00003 | Loss: 0.5814\n",
      "Epoch 00004 | Loss: 0.5809\n",
      "Epoch 00005 | Loss: 0.5812\n",
      "Epoch 00006 | Loss: 0.5798\n",
      "F1-Score: 0.3996\n",
      "Epoch 00007 | Loss: 0.5791\n",
      "Epoch 00008 | Loss: 0.5787\n",
      "Epoch 00009 | Loss: 0.5787\n",
      "Epoch 00010 | Loss: 0.5792\n",
      "Epoch 00011 | Loss: 0.5804\n",
      "F1-Score: 0.4026\n",
      "Epoch 00012 | Loss: 0.5794\n",
      "Epoch 00013 | Loss: 0.5796\n",
      "Epoch 00014 | Loss: 0.5801\n",
      "Epoch 00015 | Loss: 0.5784\n",
      "Epoch 00016 | Loss: 0.5794\n",
      "F1-Score: 0.3959\n",
      "Epoch 00017 | Loss: 0.5807\n",
      "Epoch 00018 | Loss: 0.5788\n",
      "Epoch 00019 | Loss: 0.5788\n",
      "Epoch 00020 | Loss: 0.5802\n",
      "Epoch 00021 | Loss: 0.5788\n",
      "F1-Score: 0.3975\n",
      "Epoch 00022 | Loss: 0.5787\n",
      "Epoch 00023 | Loss: 0.5797\n",
      "Epoch 00024 | Loss: 0.5791\n",
      "Epoch 00025 | Loss: 0.5790\n",
      "Epoch 00026 | Loss: 0.5795\n",
      "F1-Score: 0.4022\n",
      "Epoch 00027 | Loss: 0.5789\n",
      "Epoch 00028 | Loss: 0.5791\n",
      "Epoch 00029 | Loss: 0.5789\n",
      "Epoch 00030 | Loss: 0.5797\n",
      "Epoch 00031 | Loss: 0.5783\n",
      "F1-Score: 0.3992\n",
      "Epoch 00032 | Loss: 0.5788\n",
      "Epoch 00033 | Loss: 0.5794\n",
      "Epoch 00034 | Loss: 0.5799\n",
      "Epoch 00035 | Loss: 0.5791\n",
      "Epoch 00036 | Loss: 0.5794\n",
      "F1-Score: 0.3951\n",
      "Epoch 00037 | Loss: 0.5789\n",
      "Epoch 00038 | Loss: 0.5788\n",
      "Epoch 00039 | Loss: 0.5792\n",
      "Epoch 00040 | Loss: 0.5787\n",
      "Epoch 00041 | Loss: 0.5791\n",
      "F1-Score: 0.3922\n",
      "Epoch 00042 | Loss: 0.5798\n",
      "Epoch 00043 | Loss: 0.5793\n",
      "Epoch 00044 | Loss: 0.5799\n",
      "Epoch 00045 | Loss: 0.5792\n",
      "Epoch 00046 | Loss: 0.5791\n",
      "F1-Score: 0.3946\n",
      "Epoch 00047 | Loss: 0.5791\n",
      "Epoch 00048 | Loss: 0.5799\n",
      "Epoch 00049 | Loss: 0.5789\n",
      "Epoch 00050 | Loss: 0.5798\n",
      "Epoch 00051 | Loss: 0.5795\n",
      "F1-Score: 0.3942\n",
      "Epoch 00052 | Loss: 0.5790\n",
      "Epoch 00053 | Loss: 0.5788\n",
      "Epoch 00054 | Loss: 0.5797\n",
      "Epoch 00055 | Loss: 0.5802\n",
      "Epoch 00056 | Loss: 0.5788\n",
      "F1-Score: 0.3962\n",
      "Epoch 00057 | Loss: 0.5791\n",
      "Epoch 00058 | Loss: 0.5790\n",
      "Epoch 00059 | Loss: 0.5796\n",
      "Epoch 00060 | Loss: 0.5795\n",
      "Epoch 00061 | Loss: 0.5797\n",
      "F1-Score: 0.3936\n",
      "Epoch 00062 | Loss: 0.5792\n",
      "Epoch 00063 | Loss: 0.5797\n",
      "Epoch 00064 | Loss: 0.5788\n",
      "Epoch 00065 | Loss: 0.5796\n",
      "Epoch 00066 | Loss: 0.5790\n",
      "F1-Score: 0.3951\n",
      "Epoch 00067 | Loss: 0.5792\n",
      "Epoch 00068 | Loss: 0.5790\n",
      "Epoch 00069 | Loss: 0.5788\n",
      "Epoch 00070 | Loss: 0.5795\n",
      "Epoch 00071 | Loss: 0.5793\n",
      "F1-Score: 0.3948\n",
      "Epoch 00072 | Loss: 0.5785\n",
      "Epoch 00073 | Loss: 0.5796\n",
      "Epoch 00074 | Loss: 0.5793\n",
      "Epoch 00075 | Loss: 0.5789\n",
      "Epoch 00076 | Loss: 0.5795\n",
      "F1-Score: 0.3939\n",
      "Epoch 00077 | Loss: 0.5794\n",
      "Epoch 00078 | Loss: 0.5792\n",
      "Epoch 00079 | Loss: 0.5799\n",
      "Epoch 00080 | Loss: 0.5791\n",
      "Epoch 00081 | Loss: 0.5794\n",
      "F1-Score: 0.3949\n",
      "Epoch 00082 | Loss: 0.5790\n",
      "Epoch 00083 | Loss: 0.5792\n",
      "Epoch 00084 | Loss: 0.5794\n",
      "Epoch 00085 | Loss: 0.5791\n",
      "Epoch 00086 | Loss: 0.5793\n",
      "F1-Score: 0.3982\n",
      "Epoch 00087 | Loss: 0.5794\n",
      "Epoch 00088 | Loss: 0.5792\n",
      "Epoch 00089 | Loss: 0.5782\n",
      "Epoch 00090 | Loss: 0.5794\n",
      "Epoch 00091 | Loss: 0.5788\n",
      "F1-Score: 0.3945\n",
      "Epoch 00092 | Loss: 0.5794\n",
      "Epoch 00093 | Loss: 0.5792\n",
      "Epoch 00094 | Loss: 0.5795\n",
      "Epoch 00095 | Loss: 0.5792\n",
      "Epoch 00096 | Loss: 0.5793\n",
      "F1-Score: 0.3930\n",
      "Epoch 00097 | Loss: 0.5791\n",
      "Epoch 00098 | Loss: 0.5789\n",
      "Epoch 00099 | Loss: 0.5789\n",
      "Epoch 00100 | Loss: 0.5787\n",
      "Epoch 00101 | Loss: 0.5795\n",
      "F1-Score: 0.3949\n",
      "Epoch 00102 | Loss: 0.5796\n",
      "Epoch 00103 | Loss: 0.5792\n",
      "Epoch 00104 | Loss: 0.5786\n",
      "Epoch 00105 | Loss: 0.5799\n",
      "Epoch 00106 | Loss: 0.5787\n",
      "F1-Score: 0.3962\n",
      "Epoch 00107 | Loss: 0.5792\n",
      "Epoch 00108 | Loss: 0.5799\n",
      "Epoch 00109 | Loss: 0.5789\n",
      "Epoch 00110 | Loss: 0.5786\n",
      "Epoch 00111 | Loss: 0.5788\n",
      "F1-Score: 0.3956\n",
      "Epoch 00112 | Loss: 0.5791\n",
      "Epoch 00113 | Loss: 0.5793\n",
      "Epoch 00114 | Loss: 0.5791\n",
      "Epoch 00115 | Loss: 0.5788\n",
      "Epoch 00116 | Loss: 0.5789\n",
      "F1-Score: 0.3930\n",
      "Epoch 00117 | Loss: 0.5799\n",
      "Epoch 00118 | Loss: 0.5794\n",
      "Epoch 00119 | Loss: 0.5792\n",
      "Epoch 00120 | Loss: 0.5788\n",
      "Epoch 00121 | Loss: 0.5793\n",
      "F1-Score: 0.3931\n",
      "Epoch 00122 | Loss: 0.5791\n",
      "Epoch 00123 | Loss: 0.5782\n",
      "Epoch 00124 | Loss: 0.5793\n",
      "Epoch 00125 | Loss: 0.5788\n",
      "Epoch 00126 | Loss: 0.5786\n",
      "F1-Score: 0.3946\n",
      "Epoch 00127 | Loss: 0.5789\n",
      "Epoch 00128 | Loss: 0.5794\n",
      "Epoch 00129 | Loss: 0.5791\n",
      "Epoch 00130 | Loss: 0.5792\n",
      "Epoch 00131 | Loss: 0.5790\n",
      "F1-Score: 0.3958\n",
      "Epoch 00132 | Loss: 0.5791\n",
      "Epoch 00133 | Loss: 0.5794\n",
      "Epoch 00134 | Loss: 0.5784\n",
      "Epoch 00135 | Loss: 0.5784\n",
      "Epoch 00136 | Loss: 0.5795\n",
      "F1-Score: 0.3944\n",
      "Epoch 00137 | Loss: 0.5795\n",
      "Epoch 00138 | Loss: 0.5791\n",
      "Epoch 00139 | Loss: 0.5789\n",
      "Epoch 00140 | Loss: 0.5798\n",
      "Epoch 00141 | Loss: 0.5788\n",
      "F1-Score: 0.3961\n",
      "Epoch 00142 | Loss: 0.5789\n",
      "Epoch 00143 | Loss: 0.5790\n",
      "Epoch 00144 | Loss: 0.5789\n",
      "Epoch 00145 | Loss: 0.5793\n",
      "Epoch 00146 | Loss: 0.5792\n",
      "F1-Score: 0.3968\n",
      "Epoch 00147 | Loss: 0.5795\n",
      "Epoch 00148 | Loss: 0.5794\n",
      "Epoch 00149 | Loss: 0.5795\n",
      "Epoch 00150 | Loss: 0.5793\n",
      "Epoch 00151 | Loss: 0.5798\n",
      "F1-Score: 0.3940\n",
      "Epoch 00152 | Loss: 0.5789\n",
      "Epoch 00153 | Loss: 0.5788\n",
      "Epoch 00154 | Loss: 0.5796\n",
      "Epoch 00155 | Loss: 0.5798\n",
      "Epoch 00156 | Loss: 0.5797\n",
      "F1-Score: 0.3960\n",
      "Epoch 00157 | Loss: 0.5785\n",
      "Epoch 00158 | Loss: 0.5791\n",
      "Epoch 00159 | Loss: 0.5796\n",
      "Epoch 00160 | Loss: 0.5791\n",
      "Epoch 00161 | Loss: 0.5793\n",
      "F1-Score: 0.3931\n",
      "Epoch 00162 | Loss: 0.5794\n",
      "Epoch 00163 | Loss: 0.5791\n",
      "Epoch 00164 | Loss: 0.5791\n",
      "Epoch 00165 | Loss: 0.5789\n",
      "Epoch 00166 | Loss: 0.5789\n",
      "F1-Score: 0.3946\n",
      "Epoch 00167 | Loss: 0.5794\n",
      "Epoch 00168 | Loss: 0.5795\n",
      "Epoch 00169 | Loss: 0.5793\n",
      "Epoch 00170 | Loss: 0.5796\n",
      "Epoch 00171 | Loss: 0.5791\n",
      "F1-Score: 0.3949\n",
      "Epoch 00172 | Loss: 0.5791\n",
      "Epoch 00173 | Loss: 0.5794\n",
      "Epoch 00174 | Loss: 0.5787\n",
      "Epoch 00175 | Loss: 0.5790\n",
      "Epoch 00176 | Loss: 0.5794\n",
      "F1-Score: 0.3990\n",
      "Epoch 00177 | Loss: 0.5787\n",
      "Epoch 00178 | Loss: 0.5794\n",
      "Epoch 00179 | Loss: 0.5792\n",
      "Epoch 00180 | Loss: 0.5790\n",
      "Epoch 00181 | Loss: 0.5796\n",
      "F1-Score: 0.3947\n",
      "Epoch 00182 | Loss: 0.5786\n",
      "Epoch 00183 | Loss: 0.5790\n",
      "Epoch 00184 | Loss: 0.5794\n",
      "Epoch 00185 | Loss: 0.5794\n",
      "Epoch 00186 | Loss: 0.5781\n",
      "F1-Score: 0.3953\n",
      "Epoch 00187 | Loss: 0.5787\n",
      "Epoch 00188 | Loss: 0.5796\n",
      "Epoch 00189 | Loss: 0.5797\n",
      "Epoch 00190 | Loss: 0.5783\n",
      "Epoch 00191 | Loss: 0.5794\n",
      "F1-Score: 0.3954\n",
      "Epoch 00192 | Loss: 0.5795\n",
      "Epoch 00193 | Loss: 0.5788\n",
      "Epoch 00194 | Loss: 0.5791\n",
      "Epoch 00195 | Loss: 0.5795\n",
      "Epoch 00196 | Loss: 0.5789\n",
      "F1-Score: 0.3961\n",
      "Epoch 00197 | Loss: 0.5789\n",
      "Epoch 00198 | Loss: 0.5795\n",
      "Epoch 00199 | Loss: 0.5793\n",
      "Epoch 00200 | Loss: 0.5797\n"
     ]
    }
   ],
   "source": [
    "## Student model\n",
    "student_model = StudentModel(n_features, 8, n_classes).to(device)\n",
    "\n",
    "### DEFINE LOSS FUNCTION AND OPTIMIZER\n",
    "optimizer = torch.optim.Adam(student_model.parameters(), lr=0.005, weight_decay = 5e-3)\n",
    "\n",
    "### TRAIN\n",
    "epoch_list, student_model_scores = train(student_model, loss_fcn, device, optimizer, max_epochs, train_dataloader, val_dataloader)"
   ]
  },
  {
   "cell_type": "markdown",
   "metadata": {
    "cell_ktag": "bRSFwvT1/2zX",
    "id": "aWatNTPBpQGY"
   },
   "source": [
    "Let's evaluate the performance of your model"
   ]
  },
  {
   "cell_type": "code",
   "execution_count": 71,
   "metadata": {
    "cell_ktag": "bRSFwvT1/2zX",
    "id": "WFWMqwDuSj7b"
   },
   "outputs": [
    {
     "name": "stdout",
     "output_type": "stream",
     "text": [
      "Student Model : F1-Score on the test set: 0.3938\n"
     ]
    },
    {
     "data": {
      "image/png": "[encoded data removed]",
      "text/plain": [
       "<Figure size 1000x500 with 1 Axes>"
      ]
     },
     "metadata": {},
     "output_type": "display_data"
    }
   ],
   "source": [
    "score_test = evaluate(student_model, loss_fcn, device, test_dataloader)\n",
    "print(\"Student Model : F1-Score on the test set: {:.4f}\".format(score_test))\n",
    "\n",
    "\n",
    "def plot_f1_score(epoch_list, basic_model_scores, student_model_scores):\n",
    "    plt.figure(figsize=[10, 5])\n",
    "    plt.plot(epoch_list, basic_model_scores, \"b\", label=\"Basic Model\")\n",
    "    plt.plot(epoch_list, student_model_scores, \"r\", label=\"Student Model\")\n",
    "    plt.title(\"Evolution of f1 score w.r.t epochs\")\n",
    "    plt.ylim([0.0, 1.0])\n",
    "    plt.ylabel(\"Epochs\")\n",
    "    plt.xlabel(\"F1-Score\")\n",
    "    plt.legend()\n",
    "    plt.show()\n",
    "\n",
    "\n",
    "plot_f1_score(epoch_list, basic_model_scores, student_model_scores)"
   ]
  },
  {
   "cell_type": "markdown",
   "metadata": {},
   "source": [
    "### Inductive learning\n",
    "\n",
    "This architecture uses 3 concatenated GAT layers, with respectively $4, 4$ and $6$ multi-head attention."
   ]
  },
  {
   "cell_type": "code",
   "execution_count": 87,
   "metadata": {
    "cell_ktag": "bRSFwvT1/2zX"
   },
   "outputs": [],
   "source": [
    "class StudentModel(nn.Module):\n",
    "  def __init__(self, input_size, hidden_size, output_size):\n",
    "      \"\"\"Initialization of the neural network and definition of its parameters. \n",
    "         Args:\n",
    "            - input_size = Number of features per node\n",
    "            - hidden_size = Number of features in latent space\n",
    "            - output_size = Number of classes\n",
    "            - Initialization of layers' weights\n",
    "      \"\"\"\n",
    "      super().__init__()\n",
    "\n",
    "      self.linear1 = torch.nn.Linear(input_size, 4*hidden_size)\n",
    "      self.linear2 = torch.nn.Linear(4*hidden_size, 4*hidden_size)\n",
    "\n",
    "      self.first_layer = graphnn.GATConv(input_size, hidden_size, heads = 4)\n",
    "\n",
    "      self.activation = torch.nn.ELU()\n",
    "\n",
    "      self.second_layer = graphnn.GATConv(hidden_size*4, hidden_size, heads = 4)\n",
    "\n",
    "      self.third_layer = graphnn.GATConv(4*hidden_size, output_size, heads = 6, concat=False)\n",
    "\n",
    "  def forward(self, x, edge_index):\n",
    "    out = self.first_layer(x, edge_index) + self.linear1(x)\n",
    "    out = self.activation(out)\n",
    "    out = self.second_layer(out, edge_index) + self.linear2(out)\n",
    "    out = self.activation(out)\n",
    "    out = self.third_layer(out, edge_index)\n",
    "    return out"
   ]
  },
  {
   "cell_type": "code",
   "execution_count": 88,
   "metadata": {},
   "outputs": [
    {
     "name": "stdout",
     "output_type": "stream",
     "text": [
      "Epoch 00001 | Loss: 0.6201\n",
      "F1-Score: 0.3931\n",
      "Epoch 00002 | Loss: 0.5473\n",
      "Epoch 00003 | Loss: 0.5448\n"
     ]
    },
    {
     "ename": "KeyboardInterrupt",
     "evalue": "",
     "output_type": "error",
     "traceback": [
      "\u001b[1;31m---------------------------------------------------------------------------\u001b[0m",
      "\u001b[1;31mKeyboardInterrupt\u001b[0m                         Traceback (most recent call last)",
      "Cell \u001b[1;32mIn[88], line 8\u001b[0m\n\u001b[0;32m      5\u001b[0m optimizer \u001b[38;5;241m=\u001b[39m torch\u001b[38;5;241m.\u001b[39moptim\u001b[38;5;241m.\u001b[39mAdam(student_model\u001b[38;5;241m.\u001b[39mparameters(), lr\u001b[38;5;241m=\u001b[39m\u001b[38;5;241m0.005\u001b[39m, weight_decay \u001b[38;5;241m=\u001b[39m \u001b[38;5;241m5e-4\u001b[39m)\n\u001b[0;32m      7\u001b[0m \u001b[38;5;66;03m### TRAIN\u001b[39;00m\n\u001b[1;32m----> 8\u001b[0m epoch_list, student_model_scores \u001b[38;5;241m=\u001b[39m train(student_model, loss_fcn, device, optimizer, max_epochs, train_dataloader, val_dataloader)\n",
      "Cell \u001b[1;32mIn[6], line 26\u001b[0m, in \u001b[0;36mtrain\u001b[1;34m(model, loss_fcn, device, optimizer, max_epochs, train_dataloader, val_dataloader)\u001b[0m\n\u001b[0;32m     24\u001b[0m     loss\u001b[38;5;241m.\u001b[39mbackward()\n\u001b[0;32m     25\u001b[0m     optimizer\u001b[38;5;241m.\u001b[39mstep()\n\u001b[1;32m---> 26\u001b[0m     losses\u001b[38;5;241m.\u001b[39mappend(loss\u001b[38;5;241m.\u001b[39mitem())\n\u001b[0;32m     27\u001b[0m loss_data \u001b[38;5;241m=\u001b[39m np\u001b[38;5;241m.\u001b[39marray(losses)\u001b[38;5;241m.\u001b[39mmean()\n\u001b[0;32m     28\u001b[0m \u001b[38;5;28mprint\u001b[39m(\u001b[38;5;124m\"\u001b[39m\u001b[38;5;124mEpoch \u001b[39m\u001b[38;5;132;01m{:05d}\u001b[39;00m\u001b[38;5;124m | Loss: \u001b[39m\u001b[38;5;132;01m{:.4f}\u001b[39;00m\u001b[38;5;124m\"\u001b[39m\u001b[38;5;241m.\u001b[39mformat(epoch \u001b[38;5;241m+\u001b[39m \u001b[38;5;241m1\u001b[39m, loss_data))\n",
      "\u001b[1;31mKeyboardInterrupt\u001b[0m: "
     ]
    }
   ],
   "source": [
    "## Student model\n",
    "student_model = StudentModel(n_features, 256, n_classes).to(device)\n",
    "\n",
    "### DEFINE LOSS FUNCTION AND OPTIMIZER\n",
    "optimizer = torch.optim.Adam(student_model.parameters(), lr=0.005)\n",
    "\n",
    "### TRAIN\n",
    "epoch_list, student_model_scores = train(student_model, loss_fcn, device, optimizer, max_epochs, train_dataloader, val_dataloader)"
   ]
  },
  {
   "cell_type": "code",
   "execution_count": null,
   "metadata": {},
   "outputs": [],
   "source": [
    "score_test = evaluate(student_model, loss_fcn, device, test_dataloader)\n",
    "print(\"Student Model : F1-Score on the test set: {:.4f}\".format(score_test))\n",
    "\n",
    "\n",
    "def plot_f1_score(epoch_list, basic_model_scores, student_model_scores):\n",
    "    plt.figure(figsize=[10, 5])\n",
    "    plt.plot(epoch_list, basic_model_scores, \"b\", label=\"Basic Model\")\n",
    "    plt.plot(epoch_list, student_model_scores, \"r\", label=\"Student Model\")\n",
    "    plt.title(\"Evolution of f1 score w.r.t epochs\")\n",
    "    plt.ylim([0.0, 1.0])\n",
    "    plt.ylabel(\"Epochs\")\n",
    "    plt.xlabel(\"F1-Score\")\n",
    "    plt.legend()\n",
    "    plt.show()\n",
    "\n",
    "\n",
    "plot_f1_score(epoch_list, basic_model_scores, student_model_scores)"
   ]
  },
  {
   "cell_type": "markdown",
   "metadata": {
    "cell_ktag": "bRSFwvT1/2zX",
    "id": "i9aVEYkuR3fp"
   },
   "source": [
    "## **PART 2 : QUESTIONS** (12/20)"
   ]
  },
  {
   "cell_type": "markdown",
   "metadata": {},
   "source": [
    "There is two types of learning in neural networks:\n",
    "- Inductive learning: involves learning general rules that can be applied to $\\textbf{any}$ unseen data.\n",
    "- Transductive learning: Transductive learning is a machine learning paradigm where the model is trained on a specific set of labeled data and then applied to a specific set of unlabeled data, with the goal of making predictions for the unlabeled instances. Transductive learning is a special case of inductive learning, with some specificity. For example, the transductive learning focuses on making prediction over a known before-hand test dataset. \n",
    "\n"
   ]
  },
  {
   "cell_type": "markdown",
   "metadata": {
    "cell_ktag": "bRSFwvT1/2zX",
    "id": "vZ-r6AWtR-Co"
   },
   "source": [
    "**1. Make a small paragraph that : (4pts)**\n",
    "1. Explains your achitecture and justify your choices (why the Graph Layer you chose is more efficient than the GCNLayer from the Basic Model?).\n",
    "2. Analyses your results (what is the F1-Score ? are your results convincing ? what is your position w.r.t state-of-the-art ?)."
   ]
  },
  {
   "cell_type": "code",
   "execution_count": null,
   "metadata": {
    "cell_ktag": "bRSFwvT1/2zX"
   },
   "outputs": [],
   "source": [
    "# Your code goes here"
   ]
  },
  {
   "cell_type": "markdown",
   "metadata": {
    "cell_ktag": "bRSFwvT1/2zX"
   },
   "source": [
    ">Answer\n",
    "\n",
    "1. The transductive architecture proposed in https://arxiv.org/pdf/1710.10903.pdf is too simple to achieve a proper score. The inductive architecture proposes to implement a pile of three GAT layers, augmented skip connections. The Graph Attentional Layer is more efficient because its attention mechanism grasps better the graph's structure. While convolution operation is borrowed from computer vision community, attention mechanism is more related to Natural Language Processing (NLP).\n",
    "It seems the nodes' label structure is closer to the one in texts than in images. Also, the inherent working of a layer does prevent over-smoothing from happening.\n",
    "\n",
    "2. The $F1$ score is defined from precision and recall. Precision and Recall are two classical quantities to measure the performance of a classification task. They are defined as below:\n",
    "$$\n",
    "\\text{precision} = \\frac{\\text{True Positive}}{\\text{True Positive} + \\text{False Positive}},\n",
    "$$\n",
    "and \n",
    "$$\n",
    "\\text{Recall} = \\frac{\\text{True Positive}}{\\text{True Positive} + \\text{False Negative}}.\n",
    "$$\n",
    "The precision measures how well the classifier can recover a class when requesting data, it tells if the classifier hallucinates a signifant portion of labels.\n",
    "The recall measures the effectiveness of the classifier; \n",
    "The $F1-$ score is the harmonic mean of those two quantities:\n",
    "$$\n",
    "F_1 = \\frac{1}{\\text{precision}} + \\frac{1}{\\text{recall}} = 2\\frac{\\text{precision}\\cdot \\text{call}}{\\text{precision} + \\text{call}}\n",
    "$$"
   ]
  },
  {
   "cell_type": "markdown",
   "metadata": {
    "cell_ktag": "bRSFwvT1/2zX"
   },
   "source": []
  },
  {
   "cell_type": "markdown",
   "metadata": {
    "cell_ktag": "bRSFwvT1/2zX",
    "id": "5HIVqG4u5jfc"
   },
   "source": [
    "**2. Provide a diagramm of your architecture, which includes a good and clear legend as well as shapes information. The diagramm must be submitted as an external file, along with this notebook (PDF, JEPG or PNG format accepted). (2pts)**"
   ]
  },
  {
   "cell_type": "markdown",
   "metadata": {
    "cell_ktag": "bRSFwvT1/2zX",
    "id": "crMHLjkJ5pxl"
   },
   "source": [
    "**3. Make a small paragraph that explains: (6pts)**\n",
    "1. What _oversmoothing_ is in the context of Graph Neural Network. Why is it an issue ? \n",
    "2. Are there solutions to overcome it ? \n",
    "3. Do you think the model you constructed is robust with respect to oversmoothing ? Why ?"
   ]
  },
  {
   "cell_type": "markdown",
   "metadata": {
    "cell_ktag": "bRSFwvT1/2zX",
    "id": "QLPosSov_uPK"
   },
   "source": [
    "> Answer\n",
    "\n",
    "1. Oversmoothing refers to the inherent issue coming along with stacking multiple convolutional layer in a deep neural network. Each layer $l$ aggregates the $l$-th hop neighbors of the nodes, before updating him via a function provided by the operator. While the motivation behind this procedure is to have the neural network understand the graph structure, it can have the mischievous side-effect to average over a too large region, making the nodes indistinguishable. Classifying nodes or applying classification becomes irrelevant in this context. For very deep layers, all the structural information is lost, while relevant information is commonly stored in the structure of the graph, that is the set of graph's edges. A common assumption made is that, assuming edges do not store information, is that, the closer a node is with an other, the more likely the features are to be similar. This phenomenon is called network homophily, and most architectures rely on this hypothesis to make inference.\n",
    "\n",
    "2. Some solutions are described in https://arxiv.org/pdf/1710.10903.pdf.\n",
    "\n",
    "3. Whether graph-attention mechanisms counter over-smoothing remains an open-question, see https://arxiv.org/pdf/2305.16102. After all, attention mechanism relies on message-passing formalism. The fact that performances surpass what could be observed with convolutional layers feeds our belief that attention mechanism might alleviate feature homogeneization, or at least might appear for deeper neural networks."
   ]
  },
  {
   "cell_type": "markdown",
   "metadata": {
    "cell_ktag": "bRSFwvT1/2zX"
   },
   "source": []
  }
 ],
 "metadata": {
  "accelerator": "GPU",
  "colab": {
   "provenance": []
  },
  "gpuClass": "standard",
  "kernelspec": {
   "display_name": "base",
   "language": "python",
   "name": "python3"
  },
  "kfiletag": "bRSFwvT1/2zX",
  "language_info": {
   "codemirror_mode": {
    "name": "ipython",
    "version": 3
   },
   "file_extension": ".py",
   "mimetype": "text/x-python",
   "name": "python",
   "nbconvert_exporter": "python",
   "pygments_lexer": "ipython3",
   "version": "3.11.7"
  }
 },
 "nbformat": 4,
 "nbformat_minor": 1
}
